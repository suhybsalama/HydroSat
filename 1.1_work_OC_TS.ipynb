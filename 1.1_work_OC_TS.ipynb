{
 "cells": [
  {
   "cell_type": "markdown",
   "id": "6595f7dd-9a74-40ec-a1d4-49461c08c2ac",
   "metadata": {
    "tags": []
   },
   "source": [
    "![Banner](./../0-Course-info/images/bannerSoB.png)"
   ]
  },
  {
   "cell_type": "markdown",
   "id": "98d13b61-8b5d-47b6-98bb-c6a95ec9986c",
   "metadata": {},
   "source": [
    "# Work with Ocean Color Products  \n",
    "\n",
    "**Author: Suhyb Salama, ITC**  \n",
    "\n",
    "\n",
    "## Purpose \n",
    "This exercise introduces you to [Google Earth Engine (GEE)](https://earthengine.google.com/) and its functionalities from within python script in [jupyter notebook](https://jupyter.org/). The exercise is a follow up on the [first exercise on Google Earth Engine](./3_WorkingWithSpatialData_GEE.ipynb).\n",
    "\n",
    "\n",
    "## Prerequisites\n",
    "- You should have an account in Google Earth Engine. If not done yet please [sign up now](https://earthengine.google.com/signup/).\n",
    "- You should have worked out the [first exercise on Google Earth Engine](./3_WorkingWithSpatialData_GEE.ipynb) \n",
    "\n",
    "## What you will learn\n",
    "1. Access Google Earth Engine (GEE) with your account;\n",
    "2. Access Ocean Color products on GEE;\n",
    "3. Perform a temporal averaging and visualize the results;\n",
    "4. Extract area averaged time series as PANDAS data frame.\n",
    "\n",
    "## What will you achieve\n",
    "At the end of this exercise you will be able to use Google Earth Engine to access satellite data, visualize and manipulate these data using python scripts in jupyter notebooks.\n",
    "\n"
   ]
  },
  {
   "cell_type": "markdown",
   "id": "fd6cf057-bf9e-47bd-9dac-324bf0026803",
   "metadata": {},
   "source": [
    "### The work comprises sequential steps that you will perform, are you ready? \n",
    "\n",
    "### *off you go...*\n",
    "\n",
    "You may skip **ee.Authenticate()** step when you come here straight from the previous exercise because the authentication will be still valid.\n"
   ]
  },
  {
   "cell_type": "markdown",
   "id": "3be0f48f-53a1-4e90-9522-fdfd6befa84f",
   "metadata": {},
   "source": [
    " ## Import Google Earth API.\n",
    " This API contains all the functionalities of Google Earth Engine (GEE)"
   ]
  },
  {
   "cell_type": "code",
   "execution_count": 1,
   "id": "0fa35e9e-4372-4efa-ab7d-e8eb6b17475e",
   "metadata": {},
   "outputs": [],
   "source": [
    "import ee"
   ]
  },
  {
   "cell_type": "markdown",
   "id": "98e4a266-f810-4aec-a0b0-52a20f9301f9",
   "metadata": {},
   "source": [
    "## Initialize the authentication process.\n",
    "This process will let you log in with your user name and password\n",
    "* if you have already Authenticate your entrance to GEE you can skip this step."
   ]
  },
  {
   "cell_type": "code",
   "execution_count": 2,
   "id": "51deca43-a4c7-4adc-9132-be72fbe92475",
   "metadata": {
    "tags": []
   },
   "outputs": [],
   "source": [
    "try:\n",
    "    ee.Initialize()\n",
    "except Exception as e:\n",
    "    ee.Authenticate()\n",
    "    ee.Initialize()"
   ]
  },
  {
   "cell_type": "markdown",
   "id": "f7a7fd5b-4ea6-41f1-8a1a-d517824660a3",
   "metadata": {},
   "source": [
    "## Import Google Earth mapping capabilities\n",
    "\n",
    "More information on the functionality of the *geemap* python package can be found at this [link](https://geemap.org/), which includes a [cheat sheet](https://geemap.org/cheatsheet/), [tutorials](https://geemap.org/tutorials/) and [book](https://book.geemap.org/) with valuable resources. \n",
    "The syntax of many of the Google Earth Engine functions that are also callable with the *geemap* site package can be found under the [Client Libraries](https://developers.google.com/earth-engine/apidocs/)."
   ]
  },
  {
   "cell_type": "code",
   "execution_count": 3,
   "id": "21bd821e-629c-475f-9f4e-26506184fb51",
   "metadata": {},
   "outputs": [],
   "source": [
    "import pandas as pd\n",
    "import numpy as np\n",
    "import geemap\n",
    "import geemap.colormaps as cm\n",
    "Map =geemap.Map()"
   ]
  },
  {
   "cell_type": "markdown",
   "id": "45d6ca0a-cf50-4156-a406-6e0a6d07769e",
   "metadata": {},
   "source": [
    "## Data Access\n",
    "Get access to [MODIS product of Ocean Color](https://developers.google.com/earth-engine/datasets/catalog/NASA_OCEANDATA_MODIS-Aqua_L3SMI#description). "
   ]
  },
  {
   "cell_type": "code",
   "execution_count": 4,
   "id": "a42c1e55-4892-47a6-941c-327d4d01febf",
   "metadata": {},
   "outputs": [],
   "source": [
    "MODIS_OC_DS = ee.ImageCollection(\"NASA/OCEANDATA/MODIS-Aqua/L3SMI\")"
   ]
  },
  {
   "cell_type": "markdown",
   "id": "08dc8b41-4626-49f7-a46f-391f835f2a7a",
   "metadata": {},
   "source": [
    "### Interrogate \n",
    "get some information on the data set of *MODIS_OC_DS*\n",
    "\n",
    "- Select one layer and list the band names\n",
    "- The [descriptions of bands](https://developers.google.com/earth-engine/datasets/catalog/NASA_OCEANDATA_MODIS-Aqua_L3SMI#bands) provides details on the content of the data set."
   ]
  },
  {
   "cell_type": "code",
   "execution_count": 5,
   "id": "61b1679b-a0ab-4c67-87b8-57c142c475ae",
   "metadata": {},
   "outputs": [
    {
     "name": "stdout",
     "output_type": "stream",
     "text": [
      "system:band_names ['chlor_a', 'nflh', 'poc', 'Rrs_412', 'Rrs_443', 'Rrs_469', 'Rrs_488', 'Rrs_531', 'Rrs_547', 'Rrs_555', 'Rrs_645', 'Rrs_667', 'Rrs_678', 'sst']\n"
     ]
    }
   ],
   "source": [
    "first_image = MODIS_OC_DS.first()\n",
    "Bname = first_image.get('system:band_names')\n",
    "print('system:band_names', Bname.getInfo())"
   ]
  },
  {
   "cell_type": "markdown",
   "id": "3c1fe58a-4134-4420-a575-b46bfc2de97e",
   "metadata": {
    "tags": []
   },
   "source": [
    "### Data filtering\n",
    "- Select Chlorophyll a concentration products *chlor_a* and filter the product to staring and ending times\n"
   ]
  },
  {
   "cell_type": "code",
   "execution_count": 8,
   "id": "d88102bd-f26d-48d6-9827-888d63d02a62",
   "metadata": {},
   "outputs": [],
   "source": [
    "selected_bands = 'chlor_a'\n",
    "sY=2003\n",
    "sM=1\n",
    "sD=1\n",
    "eY=2021\n",
    "eM=12\n",
    "eD =31\n",
    "start_date = ee.Date.fromYMD(sY, sM, sD)\n",
    "end_date   = ee.Date.fromYMD(eY, eM, eD)\n",
    "\n",
    "ChlaDS = MODIS_OC_DS.select(selected_bands).filter(ee.Filter.date(start_date, end_date))"
   ]
  },
  {
   "cell_type": "code",
   "execution_count": 9,
   "id": "74c3b6f8-b8b6-47ef-9c5d-f7e3a880fdca",
   "metadata": {},
   "outputs": [
    {
     "name": "stdout",
     "output_type": "stream",
     "text": [
      "{'type': 'Date', 'value': 1041379200000}\n"
     ]
    }
   ],
   "source": [
    "print(start_date.getInfo())"
   ]
  },
  {
   "cell_type": "markdown",
   "id": "ac0a5a7c-0bd9-4d2a-8446-00caf91604d1",
   "metadata": {},
   "source": [
    "* Count how many images"
   ]
  },
  {
   "cell_type": "code",
   "execution_count": 10,
   "id": "c04887a0-2e8e-4cea-9005-d357842ca534",
   "metadata": {},
   "outputs": [
    {
     "name": "stdout",
     "output_type": "stream",
     "text": [
      "Numbre of images is :  6849\n",
      "\n"
     ]
    }
   ],
   "source": [
    "count = ChlaDS.size()\n",
    "valCount=count.getInfo()\n",
    "print('Numbre of images is : ', str(valCount)+'\\n')"
   ]
  },
  {
   "cell_type": "markdown",
   "id": "5bf3520a-9149-441a-8473-bff24acc775d",
   "metadata": {},
   "source": [
    "* Compute the average Chl-a for the whole period "
   ]
  },
  {
   "cell_type": "code",
   "execution_count": 11,
   "id": "666a005c-c57d-4ac4-832b-3358ec64a817",
   "metadata": {},
   "outputs": [],
   "source": [
    "DecadalMeanChla= ChlaDS.reduce(ee.Reducer.mean())\n"
   ]
  },
  {
   "cell_type": "markdown",
   "id": "27e943db-2340-403a-a456-489b42180a75",
   "metadata": {},
   "source": [
    "## Visualize the calculated mean. \n",
    "* Select a color palette from available library. GEE uses the same convention used in [MatPlotLib package for python](https://matplotlib.org/stable/tutorials/colors/colormaps.html).  \n",
    "* Visualization requires three parameters, the min (= 0) and max (= 0.6 works for this example) values on which the color palette will be stretched, and the palette.  \n",
    "* Set the center point {longitude (long), latitude (lat)} of the visualization and a zoom-in scale using *Map.setCenter(long, lat, scale)*  \n",
    "* Add the Layer to the Google map and give it a name, here we use *MeanChl-a*"
   ]
  },
  {
   "cell_type": "code",
   "execution_count": 17,
   "id": "84a4141e-4d89-4346-8119-06a6d32d329e",
   "metadata": {
    "tags": []
   },
   "outputs": [
    {
     "data": {
      "application/vnd.jupyter.widget-view+json": {
       "model_id": "bb50a8ee9b81477191d6fbe48da97037",
       "version_major": 2,
       "version_minor": 0
      },
      "text/plain": [
       "Map(bottom=4174.0, center=[14, -30], controls=(WidgetControl(options=['position', 'transparent_bg'], widget=HB…"
      ]
     },
     "metadata": {},
     "output_type": "display_data"
    }
   ],
   "source": [
    "val= cm.palettes.Spectral\n",
    "palette=val.default\n",
    "\n",
    "Vis = {\n",
    "  'min': 0,\n",
    "  'max': 0.5,\n",
    "  'palette': palette}\n",
    "\n",
    "Map.setCenter(-30,14,5)\n",
    "Map.addLayer(DecadalMeanChla, Vis, 'MeanChl-a')\n",
    "Map.addLayer(ChlaDS.first(),Vis,'FirstImage')\n",
    "Map\n"
   ]
  },
  {
   "cell_type": "markdown",
   "id": "407d55c5-4150-4227-a692-489497f09fcc",
   "metadata": {
    "tags": []
   },
   "source": [
    "## Time aggregation\n",
    "\n",
    "### Compute the monthly mean\n",
    "To bin the daily data into monthly, we need two *for loops*, one for the years and one for the months. An Alternative to using *for loops* is to  apply the *.map* functionality twice, first on years and second on months.\n",
    "\n",
    "The script below shows a nested functions of two application of *.map*. The core for binning daily to monthly data is the function **createMean**.\n",
    "\n",
    "**createMean**: for a specific year, it iterate on the months, whereby per month the daily data are summed. The for loop on the *years* would iterate on the years. this function is encapsulated by the **getMonthlyMean** which run **createMean** on months. Later the **getMonthlyMean** is run on years.\n"
   ]
  },
  {
   "cell_type": "markdown",
   "id": "ca38ab5a-afc9-4d7b-ac50-3356de69a3fd",
   "metadata": {},
   "source": [
    "- Create a series of years and months to loop on"
   ]
  },
  {
   "cell_type": "code",
   "execution_count": 19,
   "id": "bd2cb633-4b5a-4260-aa7d-aefc08ac49c2",
   "metadata": {},
   "outputs": [],
   "source": [
    "years = ee.List.sequence(sY, eY)\n",
    "months = ee.List.sequence(sM, eM)"
   ]
  },
  {
   "cell_type": "markdown",
   "id": "cd5623ca-cfb7-46fb-bade-f5669a8d8291",
   "metadata": {},
   "source": [
    "- Define the functions **getMonthlyMean** and **createMean**"
   ]
  },
  {
   "cell_type": "code",
   "execution_count": 20,
   "id": "199b2ffb-84aa-4172-a2cd-d6840a2a9cce",
   "metadata": {},
   "outputs": [],
   "source": [
    "def getMonthlyMean(iy):\n",
    "    def createMean(im):\n",
    "        sDate = ee.Date.fromYMD(iy, im, sD)\n",
    "        eDate = sDate.advance(1, 'month')\n",
    "        monthFiltered = ChlaDS.filter(ee.Filter.date(sDate, eDate))\n",
    "        msum = monthFiltered.reduce(ee.Reducer.mean())\n",
    "        return msum.set({\n",
    "            'system:time_start': sDate.millis(),\n",
    "            'system:time_end': eDate.millis(),\n",
    "            'year': iy,\n",
    "            'month': im,\n",
    "            'date': sDate.millis()})\n",
    "    return months.map(createMean)"
   ]
  },
  {
   "cell_type": "markdown",
   "id": "62075a3e-19fc-4908-8596-5e7ef2ca044a",
   "metadata": {
    "tags": []
   },
   "source": [
    "#### Apply monthly binning \n",
    "Run the monthly binning function and visualize the first month and investigate the results:\n",
    "1. count the number of images in the image collection resulting from the function **getMonthlyMean**\n",
    "2. add the the first image and visualize, use the *'MonthlyChl-a* as the name of the layer."
   ]
  },
  {
   "cell_type": "code",
   "execution_count": 21,
   "id": "d2d85bc2-9225-40a3-acf0-f68670169c0a",
   "metadata": {
    "tags": []
   },
   "outputs": [
    {
     "name": "stdout",
     "output_type": "stream",
     "text": [
      "Numbre of monthly mean images is :  228\n",
      "\n"
     ]
    },
    {
     "data": {
      "application/vnd.jupyter.widget-view+json": {
       "model_id": "bb50a8ee9b81477191d6fbe48da97037",
       "version_major": 2,
       "version_minor": 0
      },
      "text/plain": [
       "Map(bottom=4134.0, center=[14, -30], controls=(WidgetControl(options=['position', 'transparent_bg'], widget=HB…"
      ]
     },
     "metadata": {},
     "output_type": "display_data"
    }
   ],
   "source": [
    "monthlyChla = ee.ImageCollection.fromImages(years.map(getMonthlyMean).flatten())\n",
    "\n",
    "count = monthlyChla.size()\n",
    "valCount=count.getInfo()\n",
    "print('Numbre of monthly mean images is : ', str(valCount)+'\\n')\n",
    "\n",
    "first_image = monthlyChla.first()\n",
    "Map.setCenter(-30,14,5)\n",
    "Map.addLayer(first_image, Vis, 'MonthlyChl-a')\n",
    "Map"
   ]
  },
  {
   "cell_type": "markdown",
   "id": "0dbe1480-dcd1-4e17-ba70-5da0334d01e6",
   "metadata": {},
   "source": [
    "## Time series extraction \n",
    "To work with a time series you can extract a point or a region. Here we will extract the time series of a an area.\n",
    "To be able to do so the following steps are needed\n",
    "1. Select the region of interest (ROI);\n",
    "2. Clip the image to the ROI and average over the region;\n",
    "3. Extract the time series of the areal average;\n"
   ]
  },
  {
   "cell_type": "markdown",
   "id": "d13a1935-5d37-4cf9-8a5d-dce7904f517c",
   "metadata": {},
   "source": [
    "### Spatial Sub set\n",
    "- Load the bounding box in the the Mediterranean sea\n",
    "- You can easily create a geojson file using the [interactive geojson map](https://geojson.io/)"
   ]
  },
  {
   "cell_type": "code",
   "execution_count": 22,
   "id": "78d645eb-2f24-442a-a4e7-36bfacb064e6",
   "metadata": {},
   "outputs": [],
   "source": [
    "seas_shapefile_path = \"./../0-Course-info/data/Geojason/boxMed.geojson\"\n",
    "seas =  geemap.geojson_to_ee(seas_shapefile_path)"
   ]
  },
  {
   "cell_type": "markdown",
   "id": "bf7d81e0-ecaa-471d-924a-2e3ec88732c7",
   "metadata": {},
   "source": [
    "- The function **getTM4RoI** will iterate on the images in an image collection and use the nested function **iter_func** to extract the date and calculate the mean of a region using **.reduceRegion.** The function will return these values as a list of two columns ['Dates', 'Chla']."
   ]
  },
  {
   "cell_type": "code",
   "execution_count": 23,
   "id": "7776d7fe-c71d-4b9b-82cc-8fb58cd2d102",
   "metadata": {},
   "outputs": [],
   "source": [
    "def getTM4RoI(imgcol):\n",
    "    def iter_func(image, newlist):\n",
    "        date = ee.Number.parse(image.date().format(\"YYYYMMdd\"))\n",
    "        stat= image.reduceRegion(\n",
    "            reducer = ee.Reducer.mean(),\n",
    "            geometry = seas,\n",
    "            scale = 5000,\n",
    "            maxPixels=1e15)\n",
    "        \n",
    "        newlist = ee.List(newlist)\n",
    "        res = newlist.add([date, stat])\n",
    "        return ee.List(res)\n",
    "    ymd = imgcol.iterate(iter_func, ee.List([]))\n",
    "    return list(ee.List(ymd).getInfo())"
   ]
  },
  {
   "cell_type": "code",
   "execution_count": 24,
   "id": "017878d4-1e48-4693-9637-de608bdff5b5",
   "metadata": {},
   "outputs": [],
   "source": [
    "inList = getTM4RoI(monthlyChla)"
   ]
  },
  {
   "cell_type": "markdown",
   "id": "8d488fc2-f80e-4b2f-a401-1a08dbaed8d8",
   "metadata": {},
   "source": [
    "### Convert to a Data Frame\n",
    "The function **Convert2TM_DF** will take the generated list from **getTM4RoI** and convert to a *Pandas Data frame* with recognizable dates. This step will make time series analysis much easier. *Pandas Data frame* is a python library and is outside GEE."
   ]
  },
  {
   "cell_type": "code",
   "execution_count": 25,
   "id": "cdba46cb-f51e-42c9-89ee-01c0fe9e96c9",
   "metadata": {},
   "outputs": [],
   "source": [
    "def Convert2TM_DF(inList):\n",
    "    newList =[]\n",
    "    for i, item in enumerate(inList):\n",
    "        if np.any(item[1].get('chlor_a_mean')):\n",
    "            newList.append([item[0],item[1].get('chlor_a_mean')])\n",
    "    DF=pd.DataFrame(newList,columns=['Dates' ,'Chl-a'])\n",
    "    datetime_series = pd.to_datetime(DF['Dates'],format='%Y%m%d')\n",
    "    DF.drop('Dates', axis=1, inplace=True)\n",
    "    DF.set_index(datetime_series, inplace=True,drop=True)\n",
    "    DF.mask(DF.eq('None')).dropna()\n",
    "    return DF"
   ]
  },
  {
   "cell_type": "markdown",
   "id": "b59b8f6f-2d1d-4281-9341-ff5d1f046a5a",
   "metadata": {},
   "source": [
    "#### Extract time series on monthly climatology\n",
    "To do so, apply the function **getTM4RoI** first and then use its output in the function **Convert2TM_DF**\n",
    "Or you can do it in one run *res=Convert2TM_DF(getTM4RoI(ImgCol,Name))* as shown in later examples (exercise week 4)."
   ]
  },
  {
   "cell_type": "code",
   "execution_count": 26,
   "id": "4f9e34cf-c73c-445f-9fa6-c8a050464251",
   "metadata": {},
   "outputs": [],
   "source": [
    "TM_Chla  = Convert2TM_DF(inList)"
   ]
  },
  {
   "cell_type": "code",
   "execution_count": 27,
   "id": "1567decf-c88a-4689-bbe6-7a8fef3ddec8",
   "metadata": {},
   "outputs": [
    {
     "data": {
      "text/html": [
       "<div>\n",
       "<style scoped>\n",
       "    .dataframe tbody tr th:only-of-type {\n",
       "        vertical-align: middle;\n",
       "    }\n",
       "\n",
       "    .dataframe tbody tr th {\n",
       "        vertical-align: top;\n",
       "    }\n",
       "\n",
       "    .dataframe thead th {\n",
       "        text-align: right;\n",
       "    }\n",
       "</style>\n",
       "<table border=\"1\" class=\"dataframe\">\n",
       "  <thead>\n",
       "    <tr style=\"text-align: right;\">\n",
       "      <th></th>\n",
       "      <th>Chl-a</th>\n",
       "    </tr>\n",
       "    <tr>\n",
       "      <th>Dates</th>\n",
       "      <th></th>\n",
       "    </tr>\n",
       "  </thead>\n",
       "  <tbody>\n",
       "    <tr>\n",
       "      <th>2003-01-01</th>\n",
       "      <td>0.168191</td>\n",
       "    </tr>\n",
       "    <tr>\n",
       "      <th>2003-02-01</th>\n",
       "      <td>0.181179</td>\n",
       "    </tr>\n",
       "    <tr>\n",
       "      <th>2003-03-01</th>\n",
       "      <td>0.160368</td>\n",
       "    </tr>\n",
       "    <tr>\n",
       "      <th>2003-04-01</th>\n",
       "      <td>0.115136</td>\n",
       "    </tr>\n",
       "    <tr>\n",
       "      <th>2003-05-01</th>\n",
       "      <td>0.085461</td>\n",
       "    </tr>\n",
       "    <tr>\n",
       "      <th>...</th>\n",
       "      <td>...</td>\n",
       "    </tr>\n",
       "    <tr>\n",
       "      <th>2021-06-01</th>\n",
       "      <td>0.064633</td>\n",
       "    </tr>\n",
       "    <tr>\n",
       "      <th>2021-08-01</th>\n",
       "      <td>0.071938</td>\n",
       "    </tr>\n",
       "    <tr>\n",
       "      <th>2021-09-01</th>\n",
       "      <td>0.070564</td>\n",
       "    </tr>\n",
       "    <tr>\n",
       "      <th>2021-10-01</th>\n",
       "      <td>0.083345</td>\n",
       "    </tr>\n",
       "    <tr>\n",
       "      <th>2021-12-01</th>\n",
       "      <td>0.175720</td>\n",
       "    </tr>\n",
       "  </tbody>\n",
       "</table>\n",
       "<p>226 rows × 1 columns</p>\n",
       "</div>"
      ],
      "text/plain": [
       "               Chl-a\n",
       "Dates               \n",
       "2003-01-01  0.168191\n",
       "2003-02-01  0.181179\n",
       "2003-03-01  0.160368\n",
       "2003-04-01  0.115136\n",
       "2003-05-01  0.085461\n",
       "...              ...\n",
       "2021-06-01  0.064633\n",
       "2021-08-01  0.071938\n",
       "2021-09-01  0.070564\n",
       "2021-10-01  0.083345\n",
       "2021-12-01  0.175720\n",
       "\n",
       "[226 rows x 1 columns]"
      ]
     },
     "execution_count": 33,
     "metadata": {},
     "output_type": "execute_result"
    }
   ],
   "source": [
    "TM_Chla"
   ]
  },
  {
   "cell_type": "markdown",
   "id": "88a0051d-be45-48e3-bb11-50f99303821b",
   "metadata": {},
   "source": [
    "##### Visualize the monthly mean with Pandas capabilities"
   ]
  },
  {
   "cell_type": "code",
   "execution_count": 28,
   "id": "e02c97d5-0410-4227-ac4b-c328d8c12278",
   "metadata": {
    "tags": []
   },
   "outputs": [
    {
     "data": {
      "image/png": "[encoded data removed]",
      "text/plain": [
       "<Figure size 640x480 with 1 Axes>"
      ]
     },
     "metadata": {},
     "output_type": "display_data"
    }
   ],
   "source": [
    "ax_=TM_Chla.plot(kind='line',\n",
    "                    legend= False,\n",
    "                    ylabel='Chl-a [\\mu g m^{-3}]',\n",
    "                    xlabel='Date',\n",
    "                    title='Monthly mean of Chl-a in the Mediterranean')"
   ]
  },
  {
   "cell_type": "markdown",
   "id": "4bbd468a-2db2-4ff2-ab48-ed142e9a7bce",
   "metadata": {},
   "source": [
    "## End exercise"
   ]
  },
  {
   "cell_type": "code",
   "execution_count": null,
   "id": "13b0feec-ead6-47b1-a5fb-0d6945125a5c",
   "metadata": {},
   "outputs": [],
   "source": []
  }
 ],
 "metadata": {
  "kernelspec": {
   "display_name": "Python",
   "language": "python",
   "name": "python3"
  },
  "language_info": {
   "codemirror_mode": {
    "name": "ipython",
    "version": 3
   },
   "file_extension": ".py",
   "mimetype": "text/x-python",
   "name": "python",
   "nbconvert_exporter": "python",
   "pygments_lexer": "ipython3",
   "version": "3.8.10"
  }
 },
 "nbformat": 4,
 "nbformat_minor": 5
}
