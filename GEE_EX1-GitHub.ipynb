{
 "cells": [
  {
   "cell_type": "code",
   "execution_count": null,
   "id": "854d3322-d36b-49b3-a9b2-6d415b740dc3",
   "metadata": {},
   "outputs": [],
   "source": [
    "![Banner](BannerGitHub.png)"
   ]
  },
  {
   "cell_type": "markdown",
   "id": "d3c199fc",
   "metadata": {},
   "source": [
    "# Temporal aggregation and trend analysis of precipitation using Google Earth Engine \n",
    "## Purpose \n",
    "This exercise introduces you to working with time series of precipitation using [Google Earth Engine (GEE)](https://earthengine.google.com/) using python script in [jupyter notebook](https://jupyter.org/). \n",
    "\n",
    "\n",
    "## Prerequisites\n",
    "- You should have an account in Google Earth Engine. If not done yet please [sign up now](https://earthengine.google.com/signup/).\n",
    "\n",
    "## What you will learn\n",
    "1. Temporal aggregation of spatial data on precipitation;\n",
    "    1.1 create monthly sum maps from daily records of precipitation;\n",
    "    1.2 create yearly mean maps from 1.1;\n",
    "    1.3 create monthly climatology mean from 1.1;\n",
    "3. Perform spatial subsets and areal aggregation;\n",
    "4. perform trend analysis on the results obtained from 1-3\n",
    "5. visualize the results as maps and time series. \n",
    "\n",
    "## What will you achieve\n",
    "At the end of this exercise you will be able to use Google Earth Engine to access satellite data, preform temporal aggregation at various time scales and estimate the trend using python scripts in jupyter notebooks."
   ]
  },
  {
   "cell_type": "markdown",
   "id": "21370c1e",
   "metadata": {},
   "source": [
    "## Introduction \n",
    "Load the required libraries and authenticate your Google account"
   ]
  },
  {
   "cell_type": "code",
   "execution_count": 7,
   "id": "c145a27a",
   "metadata": {},
   "outputs": [],
   "source": [
    "# import Google earth engine module\n",
    "import ee\n",
    "import geemap\n",
    "import geemap.colormaps as cm\n",
    "Map =geemap.Map()\n",
    "import pandas as pd\n",
    "import matplotlib.pyplot as plt\n",
    "\n",
    "#ee.Authenticate()\n",
    "#ee.Initialize()"
   ]
  },
  {
   "cell_type": "markdown",
   "id": "d2dbf7ac-32cd-4d0f-9ce1-2578f7ca6f37",
   "metadata": {},
   "source": [
    "## Data access  \n",
    "Request Google Earth Engine to access CHIRPS rainfall data (available from end 1981)"
   ]
  },
  {
   "cell_type": "code",
   "execution_count": 8,
   "id": "c11579bb-e9a4-42d4-970b-bfcc1d023c71",
   "metadata": {},
   "outputs": [],
   "source": [
    "CHIRPS_DS = ee.ImageCollection('UCSB-CHG/CHIRPS/DAILY')"
   ]
  },
  {
   "cell_type": "markdown",
   "id": "3e99be89-3896-416e-922e-d40a2146a337",
   "metadata": {},
   "source": [
    "### Selecting the time bounds\n",
    "Defining the start and end dates and filter the CHIRPS rainfall data"
   ]
  },
  {
   "cell_type": "code",
   "execution_count": 9,
   "id": "1a8027d2-19a5-4f47-9af0-e7feaec6611e",
   "metadata": {},
   "outputs": [],
   "source": [
    "selected_bands = 'precipitation'\n",
    "sY=1981\n",
    "sM=1\n",
    "sD=1\n",
    "eY=2021\n",
    "eM=12\n",
    "eD =31\n",
    "\n",
    "start_date = ee.Date.fromYMD(sY, sM, sD)\n",
    "end_date   = ee.Date.fromYMD(eY, eM, eD)\n",
    "\n",
    "precipitation  = CHIRPS_DS.select(selected_bands)\n",
    "prec_1981_2021 = precipitation.filter(ee.Filter.date(start_date, end_date))\n",
    "\n"
   ]
  },
  {
   "cell_type": "markdown",
   "id": "79c61a13-fa82-4964-8ee4-544f50381396",
   "metadata": {},
   "source": [
    "### Investigate the data\n",
    "1. count the number of images in the image collection\n",
    "2. print the properties of the first image\n",
    "3. select the properties *system:band_names* and print it"
   ]
  },
  {
   "cell_type": "code",
   "execution_count": 10,
   "id": "a3102a13-c458-4a08-a77c-42dd6369aea3",
   "metadata": {},
   "outputs": [
    {
     "name": "stdout",
     "output_type": "stream",
     "text": [
      "Numbre of images is :  14974\n",
      "\n",
      "Properties names:  {'IMAGE_DATE': '1981-01-01', 'NOMINAL_SCALE': 5565.974539663679, 'system:asset_size': '4.194949 MB', 'system:band_names': ['precipitation'], 'system:id': 'UCSB-CHG/CHIRPS/DAILY/19810101', 'system:index': '19810101', 'system:time_end': '1981-01-02 00:00:00', 'system:time_start': '1981-01-01 00:00:00', 'system:version': 1515007163707210.0}\n",
      "\n",
      "system:band_names ['precipitation']\n"
     ]
    }
   ],
   "source": [
    "count = prec_1981_2021.size()\n",
    "valCount=count.getInfo()\n",
    "print('Numbre of images is : ', str(valCount)+'\\n')\n",
    "\n",
    "first_image0 = prec_1981_2021.first()\n",
    "\n",
    "\n",
    "image_props = geemap.image_props(first_image0)\n",
    "\n",
    "print('Properties names: ',str(image_props.getInfo())+'\\n')\n",
    "\n",
    "Bname = first_image0.get('system:band_names')\n",
    "\n",
    "print('system:band_names', Bname.getInfo())\n"
   ]
  },
  {
   "cell_type": "markdown",
   "id": "65b8dd9e-b967-4a56-afd7-1585c0c2eef6",
   "metadata": {},
   "source": [
    "## Time aggregation\n",
    "\n",
    "### Compute the monthly sum\n",
    "To bin the daily data into monthly, we need two *for loops*, one for the years and one for the months. An Alternative to using *for loops* is to  apply the *.map* functionality twice, first on years and second on months.\n",
    "\n",
    "The script below shows a nested functions of two application of *.map*. The core for binning daily to monthly data is the function *createSum*: for a specific year, it iterate on the months, whereby per month the daily data are summed. The for loop on the *years* would iterate on the years.\n"
   ]
  },
  {
   "cell_type": "code",
   "execution_count": 11,
   "id": "8829d2f5-d404-410a-bae4-1bc8cdd49a3f",
   "metadata": {},
   "outputs": [],
   "source": [
    "myears=range(sY,eY+1)\n",
    "mmonths=range(1,eM+1)"
   ]
  },
  {
   "cell_type": "code",
   "execution_count": 12,
   "id": "cd9cf6ff-7157-4103-9c77-dd1e100142c0",
   "metadata": {},
   "outputs": [],
   "source": [
    "years = ee.List.sequence(sY, eY)\n",
    "months = ee.List.sequence(sM, eM)\n",
    "def getMonthlySum(iy):\n",
    "    def createSum(im):\n",
    "        sDate = ee.Date.fromYMD(iy, im, sD)\n",
    "        eDate = sDate.advance(1, 'month')\n",
    "        monthFiltered = prec_1981_2021.filter(ee.Filter.date(sDate, eDate))\n",
    "        msum = monthFiltered.reduce(ee.Reducer.sum())\n",
    "        return msum.set({\n",
    "            'system:time_start': sDate.millis(),\n",
    "            'system:time_end': eDate.millis(),\n",
    "            'year': iy,\n",
    "            'month': im,\n",
    "            'date': sDate.millis()})\n",
    "    return months.map(createSum)\n",
    "\n",
    "monthlyChirps = ee.ImageCollection.fromImages(years.map(getMonthlySum).flatten())"
   ]
  },
  {
   "cell_type": "markdown",
   "id": "d910dbab-b2aa-47ad-a648-8cff2b4cdc00",
   "metadata": {},
   "source": [
    "#### Define the mapping parameters\n"
   ]
  },
  {
   "cell_type": "code",
   "execution_count": 13,
   "id": "7b337be0-2805-455a-8fac-93f6decddeae",
   "metadata": {},
   "outputs": [],
   "source": [
    "val= cm.palettes.Spectral\n",
    "palette=val.default\n",
    "Vis = {\n",
    "  'min': 0,\n",
    "  'max': 200,\n",
    "  'palette': palette}"
   ]
  },
  {
   "cell_type": "markdown",
   "id": "a95fcd6d-1b47-436d-b46b-17a6c8e35dda",
   "metadata": {
    "tags": []
   },
   "source": [
    "#### Apply monthly binning \n",
    "Run the monthly binning function and visualize the first month and investigate the results:\n",
    "1. count the number of images in the image collection resulting from the function *getMonthlySum*\n",
    "2. add the the first image and visualize, use the *system:time_start* property as the name of the layer "
   ]
  },
  {
   "cell_type": "code",
   "execution_count": 14,
   "id": "ab2c60ca-7403-44bd-a314-519f68b24e03",
   "metadata": {
    "tags": []
   },
   "outputs": [
    {
     "name": "stdout",
     "output_type": "stream",
     "text": [
      "Count:  492\n",
      "\n",
      "1981-01-01\n"
     ]
    },
    {
     "data": {
      "application/vnd.jupyter.widget-view+json": {
       "model_id": "f5dced2b0fbd441bbdde7828873f47bb",
       "version_major": 2,
       "version_minor": 0
      },
      "text/plain": [
       "Map(center=[20, 0], controls=(WidgetControl(options=['position', 'transparent_bg'], widget=HBox(children=(Togg…"
      ]
     },
     "metadata": {},
     "output_type": "display_data"
    }
   ],
   "source": [
    "count = monthlyChirps.size()\n",
    "valCount=count.getInfo()\n",
    "print('Count: ', str(valCount)+'\\n')\n",
    "\n",
    "first_image = monthlyChirps.first()\n",
    "\n",
    "iname=ee.Date(first_image.get('system:time_start')).format(\"yyyy-MM-dd\")\n",
    "print(iname.getInfo())\n",
    "Map.addLayer(first_image, Vis, str(iname.getInfo()))\n",
    "Map"
   ]
  },
  {
   "cell_type": "markdown",
   "id": "326bbd94-a32a-42f5-94f1-bd76c87089d3",
   "metadata": {},
   "source": [
    "### Compute the monthly climatology\n",
    "**Monthly climatology** is the the mean of a month over all years of observations.\n",
    "\n",
    "The function *getMonthlyClimatology* for each month (from 1 to 12) will average all years of observations."
   ]
  },
  {
   "cell_type": "code",
   "execution_count": 15,
   "id": "99e0400e-586a-4e61-8ef0-8df25037785f",
   "metadata": {},
   "outputs": [],
   "source": [
    "def getMonthlyClimatology(mm):\n",
    "    img = monthlyChirps.filter(ee.Filter.calendarRange(sY,eY , 'year')).filter(ee.Filter.calendarRange(mm, mm, 'month'))\n",
    "    msum = img.reduce(ee.Reducer.mean())\n",
    "    timeStamp = ee.Date.fromYMD(sY,mm,1)\n",
    "    return msum.set({\n",
    "        'system:time_start': timeStamp.millis(),\n",
    "        'system:time_end':   timeStamp.millis(),\n",
    "        'year': sY,\n",
    "        'month': mm,\n",
    "        'date': timeStamp.millis()})"
   ]
  },
  {
   "cell_type": "code",
   "execution_count": 16,
   "id": "b1c54265-4b15-4656-97f9-5fd20b15373a",
   "metadata": {},
   "outputs": [],
   "source": [
    "MonthlyClim= ee.ImageCollection.fromImages(months.map(getMonthlyClimatology).flatten()) "
   ]
  },
  {
   "cell_type": "markdown",
   "id": "d2af3eaa-7567-4e0b-8a55-167b4520fad6",
   "metadata": {
    "tags": []
   },
   "source": [
    "#### Check \n",
    "Check the number of bands in the image collection resulting form the function *getMonthlyClimatology* and visualize the first month."
   ]
  },
  {
   "cell_type": "code",
   "execution_count": 17,
   "id": "7144bc7b-bc1b-4a38-bfd9-8e0b3a2ee779",
   "metadata": {},
   "outputs": [
    {
     "name": "stdout",
     "output_type": "stream",
     "text": [
      "Number of months count:  12\n",
      "\n"
     ]
    },
    {
     "data": {
      "application/vnd.jupyter.widget-view+json": {
       "model_id": "f5dced2b0fbd441bbdde7828873f47bb",
       "version_major": 2,
       "version_minor": 0
      },
      "text/plain": [
       "Map(bottom=754.0, center=[20, 0], controls=(WidgetControl(options=['position', 'transparent_bg'], widget=HBox(…"
      ]
     },
     "metadata": {},
     "output_type": "display_data"
    }
   ],
   "source": [
    "count = MonthlyClim.size()\n",
    "valCount=count.getInfo()\n",
    "print('Number of months count: ', str(valCount)+'\\n')\n",
    "\n",
    "first_image = MonthlyClim.first()\n",
    "\n",
    "iname=(first_image.get('month').getInfo())\n",
    "Map.addLayer(first_image, Vis, 'Monthly Climatology of:  '+str(iname))\n",
    "Map\n"
   ]
  },
  {
   "cell_type": "markdown",
   "id": "98884b2c-2cfa-45d0-9beb-459591602a35",
   "metadata": {},
   "source": [
    "### Compute the yearly mean\n",
    "The function *getYearlyMean* will take a list of years ,i.e. [1982-2021], and per year will filter the data for all months and average them.  "
   ]
  },
  {
   "cell_type": "code",
   "execution_count": 18,
   "id": "61dfc684-bf69-4d56-9115-892c51c10098",
   "metadata": {},
   "outputs": [],
   "source": [
    "def getYearlyMean(yy):\n",
    "    img = monthlyChirps.filter(ee.Filter.calendarRange(yy,yy , 'year')).filter(ee.Filter.calendarRange(sM, eM, 'month'))\n",
    "    ymean = img.reduce(ee.Reducer.mean())\n",
    "    timeStamp = ee.Date.fromYMD(yy,sM,1)\n",
    "    return ymean.set({\n",
    "        'system:time_start': timeStamp.millis(),\n",
    "        'system:time_end':   timeStamp.millis(),\n",
    "        'year': yy,\n",
    "        'month': sM,\n",
    "        'date': timeStamp.millis()})\n",
    "yearlymean= ee.ImageCollection.fromImages(years.map(getYearlyMean).flatten())   "
   ]
  },
  {
   "cell_type": "markdown",
   "id": "a348aacb-079a-437a-bd1f-193994bbc026",
   "metadata": {},
   "source": [
    "#### Check \n",
    "Check the number of bands in the image collection resulting form the function *getYearlyMean* and visualize the first year."
   ]
  },
  {
   "cell_type": "code",
   "execution_count": null,
   "id": "fa322114-0b0c-455c-b5dc-2c1a3ad7d6c2",
   "metadata": {
    "tags": []
   },
   "outputs": [
    {
     "name": "stdout",
     "output_type": "stream",
     "text": [
      "Number of years count:  41\n",
      "\n"
     ]
    },
    {
     "data": {
      "application/vnd.jupyter.widget-view+json": {
       "model_id": "f5dced2b0fbd441bbdde7828873f47bb",
       "version_major": 2,
       "version_minor": 0
      },
      "text/plain": [
       "Map(bottom=754.0, center=[20, 0], controls=(WidgetControl(options=['position', 'transparent_bg'], widget=HBox(…"
      ]
     },
     "metadata": {},
     "output_type": "display_data"
    }
   ],
   "source": [
    "count = yearlymean.size()\n",
    "valCount=count.getInfo()\n",
    "print('Number of years count: ', str(valCount)+'\\n')\n",
    "\n",
    "first_image = yearlymean.first()\n",
    "\n",
    "iname=iname=(first_image.get('year').getInfo())\n",
    "\n",
    "Map.addLayer(first_image, Vis, str(iname))\n",
    "Map"
   ]
  },
  {
   "cell_type": "markdown",
   "id": "f0ae3819-01a6-4108-9e86-98be4f8ee8a7",
   "metadata": {
    "tags": []
   },
   "source": [
    "## Time series extraction \n",
    "To work with a time series you can extract a point or a region. Here we will extract the time series of a country.\n",
    "To be able to do so the following steps are needed\n",
    "1. Select the region of interest (ROI);\n",
    "2. Clip the image to the ROI and average over the region;\n",
    "3. Extract the time series of the areal average;\n",
    "\n",
    "\n",
    "###  Select the region of interest"
   ]
  },
  {
   "cell_type": "code",
   "execution_count": null,
   "id": "bc3d6cd7-17dd-4c67-b519-ea3a8965de4d",
   "metadata": {},
   "outputs": [],
   "source": [
    "countries = ee.FeatureCollection(\"FAO/GAUL/2015/level0\")\n",
    "Uganda = countries.filter(ee.Filter.eq('ADM0_NAME','Uganda'))\n",
    "Uganda_g = Uganda.geometry()"
   ]
  },
  {
   "cell_type": "markdown",
   "id": "b0d9ed1d-7c0e-4901-8760-3d41666628e3",
   "metadata": {},
   "source": [
    "### Area average and values extraction\n",
    "The function *getTM4RoI* will itrate on the images in an image collection and use the nested function *iter_func* to extract the date and calculate the mean of a region using *.reduceRegion*. The function will return these values as a list of two columns ['Dates', 'AMR'].\n"
   ]
  },
  {
   "cell_type": "code",
   "execution_count": null,
   "id": "be993a0c-c413-4370-8499-8a0d7750f957",
   "metadata": {},
   "outputs": [],
   "source": [
    "def getTM4RoI(imgcol,nname):\n",
    "    def iter_func(image, newlist):\n",
    "        date = ee.Number.parse(image.date().format(\"YYYYMMdd\"))\n",
    "        stat= image.reduceRegion(\n",
    "            reducer = ee.Reducer.mean(),\n",
    "            geometry = Uganda_g,\n",
    "            scale = 5000,\n",
    "            maxPixels=1e15)\n",
    "        val=stat.get(nname)\n",
    "        newlist = ee.List(newlist)\n",
    "        return ee.List(newlist.add([date, val]))\n",
    "    ymd = imgcol.iterate(iter_func, ee.List([]))\n",
    "    return list(ee.List(ymd).getInfo())"
   ]
  },
  {
   "cell_type": "markdown",
   "id": "b62b932a-8ec3-4929-91c7-5517da82d8da",
   "metadata": {},
   "source": [
    "### Convert to a Data Frame\n",
    "The function *Convert2TM_DF* will take the generated list from *getTM4RoI* and convert to a *Pandas Data frame* with recognizable dates. This step will make time series analysis much easier. *Pandas Data frame* is a python library and is outside GEE.\n",
    "\n"
   ]
  },
  {
   "cell_type": "code",
   "execution_count": null,
   "id": "224b148e-34a9-4561-baaf-72432fb9f4de",
   "metadata": {},
   "outputs": [],
   "source": [
    "def Convert2TM_DF(inList):\n",
    "    DF=pd.DataFrame(inList,columns=['Dates' ,'AMR [mm]'])\n",
    "    datetime_series = pd.to_datetime(DF['Dates'],format='%Y%m%d')\n",
    "    DF.drop('Dates', axis=1, inplace=True)\n",
    "    DF.set_index(datetime_series, inplace=True,drop=True)\n",
    "    return DF"
   ]
  },
  {
   "cell_type": "markdown",
   "id": "9a875884-7763-4d70-94c1-7a5d5c6a2fa5",
   "metadata": {},
   "source": [
    "#### Extract time series on monthly climatology\n",
    "To do so, apply the function *getTM4RoI* first and then use its output in the function *Convert2TM_DF*\n",
    "Or you can do it in one run *res=Convert2TM_DF(getTM4RoI(ImgCol,Name))* as shown in later examples."
   ]
  },
  {
   "cell_type": "code",
   "execution_count": null,
   "id": "1d319de3-0b7d-4991-8444-deb7d5f9d0ed",
   "metadata": {},
   "outputs": [],
   "source": [
    "inList = getTM4RoI(MonthlyClim,'precipitation_sum_mean')\n",
    "TM_MC  = Convert2TM_DF(inList)"
   ]
  },
  {
   "cell_type": "markdown",
   "id": "d47167f1-2e9d-4320-ad57-84ce5c5bbeaa",
   "metadata": {},
   "source": [
    "##### Visualize the monthly climatology with Panda capabilities"
   ]
  },
  {
   "cell_type": "code",
   "execution_count": null,
   "id": "11c8da98-3e93-48a0-bec6-846ddd2d95dc",
   "metadata": {},
   "outputs": [
    {
     "data": {
      "image/png": "[encoded data removed]",
      "text/plain": [
       "<Figure size 432x288 with 1 Axes>"
      ]
     },
     "metadata": {
      "needs_background": "light"
     },
     "output_type": "display_data"
    }
   ],
   "source": [
    "TM_MC_ax=TM_MC.plot(kind='line',\n",
    "                    legend= False,\n",
    "                    ylabel='AMR [mm]',\n",
    "                    xlabel='Month',\n",
    "                    title='Monthly climatology Uganda')"
   ]
  },
  {
   "cell_type": "markdown",
   "id": "5d56527c-27a0-450a-9d8c-f94af909efc3",
   "metadata": {},
   "source": [
    "#### Extract time series on yearly mean and visualize\n",
    "To do so, apply the function *getTM4RoI* first and then use its output in the function *Convert2TM_DF*.\n",
    "Here we do it in one run *res = Convert2TM_DF( **getTM4RoI ( ImgCol,Name )** )* as shown in later examples.\n"
   ]
  },
  {
   "cell_type": "code",
   "execution_count": null,
   "id": "3196f666-64a7-49c0-b717-c167e788c362",
   "metadata": {},
   "outputs": [
    {
     "data": {
      "image/png": "[encoded data removed]",
      "text/plain": [
       "<Figure size 432x288 with 1 Axes>"
      ]
     },
     "metadata": {
      "needs_background": "light"
     },
     "output_type": "display_data"
    }
   ],
   "source": [
    "TM_Y=Convert2TM_DF(getTM4RoI(yearlymean,'precipitation_sum_mean'))\n",
    "TM_Y_ax=TM_Y.plot(kind='line',\n",
    "                   legend= False,\n",
    "                  ylabel='AMR [mm]',\n",
    "                  xlabel='Year',\n",
    "                  title='Yearly mean Uganda')"
   ]
  },
  {
   "cell_type": "markdown",
   "id": "e3500c65-9ef1-402a-896c-6ade8f192de9",
   "metadata": {},
   "source": [
    "#### Extract time series on monthly mean and visualize\n",
    "To do so, apply the function *getTM4RoI* first and then use its output in the function *Convert2TM_DF*.\n",
    "Here we do it in one run *res = Convert2TM_DF( **getTM4RoI ( ImgCol,Name )** )* as shown in later examples.\n"
   ]
  },
  {
   "cell_type": "code",
   "execution_count": null,
   "id": "ae786eb4-99bf-400b-af33-e82951bfe996",
   "metadata": {},
   "outputs": [
    {
     "data": {
      "image/png": "[encoded data removed]",
      "text/plain": [
       "<Figure size 432x288 with 1 Axes>"
      ]
     },
     "metadata": {
      "needs_background": "light"
     },
     "output_type": "display_data"
    }
   ],
   "source": [
    "TM_M=Convert2TM_DF(getTM4RoI(monthlyChirps,'precipitation_sum'))\n",
    "TM_M_ax=TM_M.plot(kind='line',\n",
    "                   legend= False,\n",
    "                  ylabel='AMR [mm]',\n",
    "                  xlabel='Date',\n",
    "                  title='Monthly mean Uganda')"
   ]
  },
  {
   "cell_type": "markdown",
   "id": "9d395c03-36ee-4d0b-8fc7-0703de7cf0b4",
   "metadata": {},
   "source": [
    "# End of exercise"
   ]
  }
 ],
 "metadata": {
  "kernelspec": {
   "display_name": "Python",
   "language": "python",
   "name": "python3"
  },
  "language_info": {
   "codemirror_mode": {
    "name": "ipython",
    "version": 3
   },
   "file_extension": ".py",
   "mimetype": "text/x-python",
   "name": "python",
   "nbconvert_exporter": "python",
   "pygments_lexer": "ipython3",
   "version": "3.8.10"
  },
  "toc-showcode": true,
  "toc-showtags": true
 },
 "nbformat": 4,
 "nbformat_minor": 5
}
