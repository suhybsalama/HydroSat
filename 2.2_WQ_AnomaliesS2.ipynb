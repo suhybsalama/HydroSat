{
 "cells": [
  {
   "cell_type": "markdown",
   "id": "8f366b90-d0f4-4493-8aa9-581fba5db99a",
   "metadata": {},
   "source": [
    "![Banner](./../0-Course-info/images/bannerSoB.png)"
   ]
  },
  {
   "cell_type": "markdown",
   "id": "2df97f11-53ca-43b0-b5bb-f0adde3c0e56",
   "metadata": {},
   "source": [
    "# Detecting of water pollution using anomalies\n",
    "\n",
    "**Author: Suhyb Salama, ITC**  \n",
    "\n",
    "\n",
    "## Purpose \n",
    "This exercise integrates the knowledge and skills gained in the previous weeks to detect water pollution. In this exercise you will estimate water quality indices from Sentinel-2 MSI (S2-MSI) level 2A images and employ  the estimated time series (of indices) to estimate pollution incident (e.g. illegal dumping of waste or outfall of wastewater pipes). This is a python script in [jupyter notebook](https://jupyter.org/) and follows from the exercises presented in proceeding weeks.\n",
    "\n",
    "\n",
    "## Prerequisites\n",
    "- You should have an account in Google Earth Engine. If not done yet please [sign up now](https://earthengine.google.com/signup/).\n",
    "- You should have worked out the [previous exercise 2.1](./2.1_WQ_IndicesS2.ipynb).\n",
    "\n",
    "## What you will learn\n",
    "1. Apply different indices for assessing water quality;  \n",
    "2. Perform temporal and spatial aggregation;\n",
    "3. Estimate the anomalies of water quality indices in time and space;\n",
    "4. Analyze time series of anomalies on spatially aggregated results;\n",
    "4. Visualize the results as maps and time series. \n",
    "\n",
    "## What will you achieve\n",
    "At the end of this exercise you will be able to use Google Earth Engine to access satellite data, assess water quality using band ratios and indices from S2-MSI and detect water pollution using temporal and spatial anomalies.\n",
    "\n"
   ]
  },
  {
   "cell_type": "markdown",
   "id": "d4640676-5ee7-4ff1-b911-4ad9aca53ce8",
   "metadata": {},
   "source": [
    "## Introduction \n",
    "**Water pollution is defined as anomalies in space, or/and time of water quality indices.**\n"
   ]
  },
  {
   "cell_type": "markdown",
   "id": "12dcd039-e776-4185-8139-62b0fc6574f4",
   "metadata": {},
   "source": [
    "### Start \n",
    "Load the required libraries and authenticate your Google account"
   ]
  },
  {
   "cell_type": "code",
   "execution_count": 1,
   "id": "0f31463c-ce7e-4708-aae5-9087f97054ed",
   "metadata": {},
   "outputs": [],
   "source": [
    "# import Google earth engine module\n",
    "import ee\n",
    "import geemap\n",
    "import geemap.colormaps as cm\n",
    "Map =geemap.Map()\n",
    "import numpy as np\n",
    "import pandas as pd\n",
    "import matplotlib.pyplot as plt"
   ]
  },
  {
   "cell_type": "markdown",
   "id": "cb69ddd8-1a19-41e7-9a5f-eb9181e1e2b1",
   "metadata": {},
   "source": [
    "**If you are not authenticated (logged in Google Earth) then you should acquire the authentication code, otherwise you can skip this cell**"
   ]
  },
  {
   "cell_type": "code",
   "execution_count": 2,
   "id": "5b1e4818-b0cf-4f5f-8bfb-220fc9a8d520",
   "metadata": {},
   "outputs": [],
   "source": [
    "try:\n",
    "    ee.Initialize()\n",
    "except Exception as e:\n",
    "    ee.Authenticate()\n",
    "    ee.Initialize()"
   ]
  },
  {
   "cell_type": "markdown",
   "id": "a509cbb2-ef3d-447f-9b74-36dfd7c1ac87",
   "metadata": {},
   "source": [
    "## Data access  \n",
    "Request Google Earth Engine to access [Sentinel 2 data Level-2A data](https://developers.google.com/earth-engine/datasets/catalog/COPERNICUS_S2_SR_HARMONIZED). Level 2 means that these images are atmospherically corrected. To have a better understanding of data level of S2-MSI you can consult the [user guide of S2-MSI](https://sentinels.copernicus.eu/web/sentinel/user-guides/sentinel-2-msi/processing-levels)."
   ]
  },
  {
   "cell_type": "code",
   "execution_count": 4,
   "id": "f45c2eef-344a-4797-a7f2-cfd0aab4ec01",
   "metadata": {},
   "outputs": [],
   "source": [
    "s2_boa_col = ee.ImageCollection('COPERNICUS/S2_SR_HARMONIZED')"
   ]
  },
  {
   "cell_type": "markdown",
   "id": "a2f34fde-54c5-4dd6-853f-dd4584b2d16a",
   "metadata": {},
   "source": [
    "### Inquire the band names of S2-MSI image collection\n",
    "- Select one image (the first);\n",
    "- Inquire the bands names of this image and print.\n",
    "\n"
   ]
  },
  {
   "cell_type": "code",
   "execution_count": 5,
   "id": "15d8a0af-2b9d-4be1-92ae-867743573d80",
   "metadata": {},
   "outputs": [
    {
     "name": "stdout",
     "output_type": "stream",
     "text": [
      "system:band_names ['B1', 'B2', 'B3', 'B4', 'B5', 'B6', 'B7', 'B8', 'B8A', 'B9', 'B11', 'B12', 'AOT', 'WVP', 'SCL', 'TCI_R', 'TCI_G', 'TCI_B', 'MSK_CLDPRB', 'MSK_SNWPRB', 'QA10', 'QA20', 'QA60']\n"
     ]
    }
   ],
   "source": [
    "first_image = s2_boa_col.first()\n",
    "Bname = first_image.get('system:band_names')\n",
    "print('system:band_names', Bname.getInfo())"
   ]
  },
  {
   "cell_type": "markdown",
   "id": "8f773eca-683b-4ce0-b96b-f6ff68c46c8c",
   "metadata": {},
   "source": [
    "## Filter the S2-MSI image collection to:\n",
    "- area of interest *AOI*\n",
    "- time period *s_date* and *e_date*\n",
    "- cloud percentage *cld_per* and probability *cld_prb*"
   ]
  },
  {
   "cell_type": "code",
   "execution_count": 6,
   "id": "a7eaf7bc-97b4-44ee-afc4-5c3b4a680680",
   "metadata": {},
   "outputs": [],
   "source": [
    "aoi = ee.Geometry.Polygon([\n",
    "    [-2.940, 54.381],\n",
    "    [-2.940, 54.369],\n",
    "    [-2.927, 54.369],\n",
    "    [-2.927, 54.381],\n",
    "    [-2.940, 54.381]])\n",
    "sY=2018\n",
    "sM=1\n",
    "sD=1\n",
    "eY=2021\n",
    "eM=12\n",
    "eD =31\n",
    "\n",
    "s_date = ee.Date.fromYMD(sY, sM, sD)\n",
    "e_date   = ee.Date.fromYMD(eY, eM, eD)\n",
    "\n",
    "cld_per = 20\n"
   ]
  },
  {
   "cell_type": "markdown",
   "id": "bb51fce9-4eed-4c73-9cfc-2ad10b4e150d",
   "metadata": {},
   "source": [
    "* Apply the filter on the [Sentinel-2 surface reflectance](https://developers.google.com/earth-engine/datasets/catalog/COPERNICUS_S2_SR_HARMONIZED) "
   ]
  },
  {
   "cell_type": "code",
   "execution_count": 7,
   "id": "e7bee3de-f0f0-4f5e-a484-17fcbdb6fcbb",
   "metadata": {},
   "outputs": [],
   "source": [
    "# filter s2-MSI bottom of atmosphere\n",
    "s2_boa_flt = s2_boa_col\\\n",
    "    .filterBounds(aoi)\\\n",
    "    .filterDate(s_date, e_date)\\\n",
    "    .filter(ee.Filter.lte('CLOUDY_PIXEL_PERCENTAGE', cld_per))"
   ]
  },
  {
   "cell_type": "code",
   "execution_count": 8,
   "id": "f54b00dc-4fad-44cf-b40b-8cd0036dee77",
   "metadata": {},
   "outputs": [
    {
     "name": "stdout",
     "output_type": "stream",
     "text": [
      "Numbre of images is :  148\n",
      "\n"
     ]
    }
   ],
   "source": [
    "count = s2_boa_flt.size()\n",
    "valCount=count.getInfo()\n",
    "print('Numbre of images is : ', str(valCount)+'\\n')"
   ]
  },
  {
   "cell_type": "markdown",
   "id": "5125bb2b-1395-461d-9917-99252dbe59b4",
   "metadata": {},
   "source": [
    "## Remove clouds and cirrus\n"
   ]
  },
  {
   "cell_type": "code",
   "execution_count": 10,
   "id": "71231471-7980-4c97-b6f3-f88881325200",
   "metadata": {
    "tags": []
   },
   "outputs": [],
   "source": [
    "def s2_cloud_mask(image):\n",
    "    quality_band = image.select('QA60')\n",
    "    \n",
    "    # using the bit mask for clouds and cirrus clouds respectively\n",
    "     # Bits 10 and 11 are clouds and cirrus, respectively.\n",
    "    cloudmask = 1 << 10\n",
    "    cirrusmask = 1 << 11\n",
    "    \n",
    "    # we only want clear skies\n",
    "    mask = quality_band.bitwiseAnd(cloudmask).eq(0) and (quality_band.bitwiseAnd(cirrusmask).eq(0))\n",
    "    \n",
    "    # we'll divide by 10000 to make interpreting the reflectance values easier\n",
    "    return image.updateMask(mask).divide(10000).copyProperties(image, [\"system:time_start\"])"
   ]
  },
  {
   "cell_type": "markdown",
   "id": "b2f751c6-165f-4fed-aa99-a37c15517921",
   "metadata": {},
   "source": [
    "## Generate a cloud-free composite\n",
    "- Apply the cloud and shadow mask function **mask_cloud_shadow**"
   ]
  },
  {
   "cell_type": "code",
   "execution_count": 11,
   "id": "74555094-56ee-4db2-9b89-cc86297336ba",
   "metadata": {},
   "outputs": [],
   "source": [
    "s2_boa_cloudfree = s2_boa_flt.map(s2_cloud_mask)"
   ]
  },
  {
   "cell_type": "markdown",
   "id": "b4445395-f0c9-405b-92b9-48ed08c5cdbb",
   "metadata": {},
   "source": [
    "- Reduce the image collection to to show the mean or median\n"
   ]
  },
  {
   "cell_type": "code",
   "execution_count": 12,
   "id": "6a103cc6-9833-4aa6-a211-3a76d7c2cc58",
   "metadata": {},
   "outputs": [],
   "source": [
    "means2_sr = s2_boa_cloudfree.reduce(ee.Reducer.mean())\n"
   ]
  },
  {
   "cell_type": "markdown",
   "id": "d1d05eb0-a982-4cbc-84ce-9244b5dfa4da",
   "metadata": {},
   "source": [
    "- Inquire the bands' names after the **reduce** operation"
   ]
  },
  {
   "cell_type": "code",
   "execution_count": 13,
   "id": "1eaef07b-6d14-4ad8-915b-1b001a128b41",
   "metadata": {},
   "outputs": [
    {
     "name": "stdout",
     "output_type": "stream",
     "text": [
      "['B1_mean', 'B2_mean', 'B3_mean', 'B4_mean', 'B5_mean', 'B6_mean', 'B7_mean', 'B8_mean', 'B8A_mean', 'B9_mean', 'B11_mean', 'B12_mean', 'AOT_mean', 'WVP_mean', 'SCL_mean', 'TCI_R_mean', 'TCI_G_mean', 'TCI_B_mean', 'MSK_CLDPRB_mean', 'MSK_SNWPRB_mean', 'QA10_mean', 'QA20_mean', 'QA60_mean']\n"
     ]
    }
   ],
   "source": [
    "Bname = means2_sr.get('system:band_names')\n",
    "Bnames =  Bname.getInfo()\n",
    "print(Bnames)"
   ]
  },
  {
   "cell_type": "code",
   "execution_count": 14,
   "id": "7b0a1b38-953c-4fc9-91d1-18e88c1e6f4b",
   "metadata": {},
   "outputs": [],
   "source": [
    "#s2_boa_flt.first().getInfo()\n",
    "#s2_boa_cloudfree.first().getInfo()"
   ]
  },
  {
   "cell_type": "markdown",
   "id": "30c16a90-cc2c-4d9b-9153-311bee5ec7fd",
   "metadata": {},
   "source": [
    "- Display the mean/median in  **GEEMAP** using bands 2, 3 and 5"
   ]
  },
  {
   "cell_type": "code",
   "execution_count": 15,
   "id": "bc037674-0d66-49a3-8b5c-ec4fcc10503a",
   "metadata": {},
   "outputs": [],
   "source": [
    "rgbVis = {\n",
    "    'min':0.0,\n",
    "    'max':0.1,\n",
    "    'bands':[Bnames[4],Bnames[2],Bnames[1]],\n",
    "}"
   ]
  },
  {
   "cell_type": "code",
   "execution_count": 16,
   "id": "09cb079b-6c13-46e8-ac71-7daeae00b18e",
   "metadata": {
    "tags": []
   },
   "outputs": [
    {
     "data": {
      "application/vnd.jupyter.widget-view+json": {
       "model_id": "63cbfab3c1634ad7a2e456236c421d3a",
       "version_major": 2,
       "version_minor": 0
      },
      "text/plain": [
       "Map(center=[20, 0], controls=(WidgetControl(options=['position', 'transparent_bg'], widget=HBox(children=(Togg…"
      ]
     },
     "metadata": {},
     "output_type": "display_data"
    }
   ],
   "source": [
    "Map.addLayer(means2_sr, rgbVis, 'SAms2',1)\n",
    "#show the map\n",
    "Map"
   ]
  },
  {
   "cell_type": "markdown",
   "id": "7b7321bf-459f-4458-907a-d9af3cb07146",
   "metadata": {
    "tags": []
   },
   "source": [
    "# Generate water quality indices"
   ]
  },
  {
   "cell_type": "markdown",
   "id": "3cac8d97-8049-473a-8902-36da249a9aa8",
   "metadata": {
    "tags": []
   },
   "source": [
    "## Normalized difference turbidity index (NDTI)"
   ]
  },
  {
   "cell_type": "code",
   "execution_count": 17,
   "id": "0433e3e0-9239-4b8f-aaa4-46c396255fe5",
   "metadata": {},
   "outputs": [],
   "source": [
    "def get_ndti(img):\n",
    "    date = ee.Date(img.get('system:time_start'))\n",
    "    ndti = img.normalizedDifference(['B3', 'B4']).rename('ndti').copyProperties(img, [\"system:time_start\"])\n",
    "    return ndti.set({\n",
    "        'system:band_names': 'ndti',\n",
    "        'day' : date.get('day'),\n",
    "        'year': date.get('year'),\n",
    "        'month': date.get('month')})"
   ]
  },
  {
   "cell_type": "code",
   "execution_count": 19,
   "id": "9ad60d4d-3ecb-45f1-b8ec-822b03db0223",
   "metadata": {},
   "outputs": [
    {
     "data": {
      "text/plain": [
       "{'type': 'Image',\n",
       " 'bands': [{'id': 'ndti',\n",
       "   'data_type': {'type': 'PixelType',\n",
       "    'precision': 'float',\n",
       "    'min': -1,\n",
       "    'max': 1},\n",
       "   'dimensions': [10980, 10980],\n",
       "   'crs': 'EPSG:32630',\n",
       "   'crs_transform': [10, 0, 399960, 0, -10, 6100020]}],\n",
       " 'properties': {'system:index': '20180108T113439_20180108T113443_T30UVF',\n",
       "  'system:time_start': 1515411283675,\n",
       "  'month': 1,\n",
       "  'year': 2018,\n",
       "  'day': 8}}"
      ]
     },
     "execution_count": 19,
     "metadata": {},
     "output_type": "execute_result"
    }
   ],
   "source": [
    "ndti=s2_boa_cloudfree.map(get_ndti)\n",
    "ndti.first().getInfo()"
   ]
  },
  {
   "cell_type": "code",
   "execution_count": 20,
   "id": "e34d81db-60a1-448e-b427-4a4d7bcb4df9",
   "metadata": {
    "tags": []
   },
   "outputs": [
    {
     "data": {
      "application/vnd.jupyter.widget-view+json": {
       "model_id": "63cbfab3c1634ad7a2e456236c421d3a",
       "version_major": 2,
       "version_minor": 0
      },
      "text/plain": [
       "Map(bottom=10703.0, center=[54.37, -2.93], controls=(WidgetControl(options=['position', 'transparent_bg'], wid…"
      ]
     },
     "metadata": {},
     "output_type": "display_data"
    }
   ],
   "source": [
    "val= cm.palettes.Spectral\n",
    "palette=val.default\n",
    "\n",
    "Vis = {\n",
    "  'min': -1,\n",
    "  'max': 1,\n",
    "  'palette': palette}\n",
    "zoom_scale = 12\n",
    "u_lon= -2.93\n",
    "u_lat =54.37\n",
    "# establish a geometry feature from the point and the scale and center the map to it\n",
    "geometry = ee.Geometry.Point(u_lon,u_lat)\n",
    "\n",
    "\n",
    "Map.centerObject(geometry,zoom_scale)\n",
    "Map.addLayer(ndti.first(), Vis, 'ndti')\n",
    "\n",
    "Map"
   ]
  },
  {
   "cell_type": "code",
   "execution_count": 21,
   "id": "62378407-fff6-47b1-b61f-185e3b68cf1f",
   "metadata": {},
   "outputs": [
    {
     "name": "stdout",
     "output_type": "stream",
     "text": [
      "Numbre of images is :  148\n",
      "\n"
     ]
    }
   ],
   "source": [
    "count = ndti.size()\n",
    "valCount=count.getInfo()\n",
    "print('Numbre of images is : ', str(valCount)+'\\n')"
   ]
  },
  {
   "cell_type": "markdown",
   "id": "1bbb557f-7a63-4530-830a-bb21aa597191",
   "metadata": {
    "tags": []
   },
   "source": [
    "## Calculate standardized anomalies\n",
    "Anomalies are defined as the deviation from the mean value.  \n",
    "$$\\overline{x_i}=x_i-\\mu$$\n",
    "\n",
    "This mean value ($\\mu$) could be: monthly climatology, monthly or yearly mean. The standardization can be performed by dividing the anomalies by the value of the standard deviation of the same group that was used to compute the mean (e.g. month or year). \n",
    "$$\\widehat{x_i} =\\frac{x_i-\\mu}{\\sigma}$$\n",
    "\n",
    "Example, in case the mean is calculated from the monthly climatology, the standard deviation should also be calculated for the monthly climatology, e.g the mean and standard deviation of all Januaries in *n* years of observation:\n",
    "\n",
    "$$\\widehat{x_{jan_i}} =\\frac{x_{jan_i}-\\mu_{jan}}{\\sigma_{jan}}$$\n",
    "Where $x_{jan_i}$ is the mean value of a biophysical variable $x$ in the month January of the $i^{th}$ year of observation; $\\mu_{jan}$ and $\\sigma_{jan}$ are the mean and standard deviation of all Januaries over the *n* years of observation. In this case the data of $x_i$ should be organized as monthly mean (the mean over all days in a month).  We can compute the standardized anomalies with respect to various references, e.g. daily, monthly,  yearly or decadal. This largely depends on the feature/phenomenon that needs to be captured.\n"
   ]
  },
  {
   "cell_type": "markdown",
   "id": "6a4204bb-811b-43bb-9aaa-8812c8ba99e4",
   "metadata": {},
   "source": [
    "## Utility of standardized anomalies\n",
    "Standardized anomalies provide a straightforward means to identify pollution and classify the status of water quality, as shown in [Fig.1](#Anom)\n",
    "\n",
    "![Anom](./../0-Course-info/images/Anomalies.jpg)***Fig.1**: interpretation of indices based on standardized anomalies using turbidity as an example.*\n"
   ]
  },
  {
   "cell_type": "markdown",
   "id": "0ccfeaaf-427c-42aa-8366-2705b08ffcd7",
   "metadata": {},
   "source": [
    "## Time aggregation\n",
    "\n",
    "### Compute the monthly mean of NDTI"
   ]
  },
  {
   "cell_type": "code",
   "execution_count": 24,
   "id": "069f2411-cb97-4ff5-beb6-406e7b1c1f5f",
   "metadata": {},
   "outputs": [],
   "source": [
    "myears=range(sY,eY+1)\n",
    "mmonths=range(1,12+1)\n",
    "years = ee.List.sequence(sY, eY)\n",
    "months = ee.List.sequence(sM, eM)"
   ]
  },
  {
   "cell_type": "code",
   "execution_count": 25,
   "id": "e57b6a16-e563-46b1-a151-c1482c5ac13a",
   "metadata": {
    "tags": []
   },
   "outputs": [],
   "source": [
    "def getMonthlyMean(iy):\n",
    "    def createMean(im):\n",
    "        sDate = ee.Date.fromYMD(iy, im, sD)\n",
    "        eDate = sDate.advance(1, 'month')\n",
    "        monthFiltered = ndti.filter(ee.Filter.date(sDate, eDate))\n",
    "        msum = monthFiltered.reduce(ee.Reducer.mean())\n",
    "        return msum.set({\n",
    "            'system:time_start': sDate.millis(),\n",
    "            'system:time_end': eDate.millis(),\n",
    "            'year': iy,\n",
    "            'month': im,\n",
    "            'date': sDate.millis()})\n",
    "    return months.map(createMean)"
   ]
  },
  {
   "cell_type": "code",
   "execution_count": 26,
   "id": "f3808fea-2c56-4c90-bb29-d233eaf220e0",
   "metadata": {
    "tags": []
   },
   "outputs": [],
   "source": [
    "monthlyNDTI= ee.ImageCollection.fromImages(years.map(getMonthlyMean).flatten())"
   ]
  },
  {
   "cell_type": "code",
   "execution_count": 27,
   "id": "40adbbe9-26bf-494d-922a-222c93850132",
   "metadata": {},
   "outputs": [
    {
     "name": "stdout",
     "output_type": "stream",
     "text": [
      "Numbre of monthly mean images is :  48\n",
      "\n"
     ]
    }
   ],
   "source": [
    "count = monthlyNDTI.size()\n",
    "valCount=count.getInfo()\n",
    "print('Numbre of monthly mean images is : ', str(valCount)+'\\n')"
   ]
  },
  {
   "cell_type": "markdown",
   "id": "e01a48e7-68b2-48d9-b629-7d5303a1e501",
   "metadata": {},
   "source": [
    "### Clean the results\n",
    "1. Due to the applied filet of cloud percentage, some months could have no images \n",
    "2. These empty images should be removed from the image collection using the function **addSize** and the **filterMetadata**. \n",
    "3. The function **addSize** will add the number of bands of each image (in this case each image contain one band) as a meta data property \n",
    "4. Then you can use **filterMetadata** to filter those images that have a band   \n",
    "\n",
    "*there is anther way to do so, maybe you would like to find it out!*"
   ]
  },
  {
   "cell_type": "code",
   "execution_count": 28,
   "id": "8ebaaf28-37f0-407c-b368-1660137ecc23",
   "metadata": {},
   "outputs": [],
   "source": [
    "def addSize(img):\n",
    "    n = img.bandNames().size()\n",
    "    return img.set({'n': n})\n",
    "monthlyNDTI = monthlyNDTI.map(addSize).filterMetadata('n', 'equals', 1)"
   ]
  },
  {
   "cell_type": "code",
   "execution_count": 29,
   "id": "293ded14-f7d7-49b8-a401-42c0e6bee74c",
   "metadata": {},
   "outputs": [
    {
     "name": "stdout",
     "output_type": "stream",
     "text": [
      "Numbre of monthly mean images is :  43\n",
      "\n"
     ]
    },
    {
     "data": {
      "application/vnd.jupyter.widget-view+json": {
       "model_id": "63cbfab3c1634ad7a2e456236c421d3a",
       "version_major": 2,
       "version_minor": 0
      },
      "text/plain": [
       "Map(bottom=335137.0, center=[54.37, -2.93], controls=(WidgetControl(options=['position', 'transparent_bg'], wi…"
      ]
     },
     "metadata": {},
     "output_type": "display_data"
    }
   ],
   "source": [
    "count = monthlyNDTI.size()\n",
    "valCount=count.getInfo()\n",
    "print('Numbre of monthly mean images is : ', str(valCount)+'\\n')\n",
    "\n",
    "first_image = monthlyNDTI.first()\n",
    "\n",
    "Map.centerObject(geometry,zoom_scale)\n",
    "\n",
    "iname=ee.Date(first_image.get('system:time_start')).format(\"yyyy-MM-dd\")\n",
    "\n",
    "Map.addLayer(first_image, Vis, iname.getInfo())\n",
    "Map"
   ]
  },
  {
   "cell_type": "markdown",
   "id": "be4f278e-455e-4a03-aedb-ffee465ad8ea",
   "metadata": {},
   "source": [
    "### Compute the monthly climatology\n",
    "**Monthly climatology** is the the mean/std of a month over all years of observations.\n",
    "1. Compute the monthly climatology mean using the function **getMonthlyClimatology_mean**\n",
    "2. Compute the monthly climatology standard deviation using the function **getMonthlyClimatology_std**  \n",
    "\n",
    "**It is useful to check the results of each calculation!**\n"
   ]
  },
  {
   "cell_type": "code",
   "execution_count": 30,
   "id": "faca5feb-d2c8-46fe-b122-40d40827b3fb",
   "metadata": {},
   "outputs": [],
   "source": [
    "def getMonthlyClimatology_mean(mm):\n",
    "    img =  monthlyNDTI.filter(ee.Filter.calendarRange(sY,eY , 'year')).filter(ee.Filter.calendarRange(mm, mm, 'month'))\n",
    "    msum = img.reduce(ee.Reducer.mean())\n",
    "    timeStamp = ee.Date.fromYMD(sY,mm,1)\n",
    "    return msum.set({\n",
    "        'system:time_start': timeStamp.millis(),\n",
    "        'system:time_end':   timeStamp.millis(),\n",
    "        'year': sY,\n",
    "        'month': mm,\n",
    "        'date': timeStamp.millis()})"
   ]
  },
  {
   "cell_type": "code",
   "execution_count": 31,
   "id": "d66ad6ea-547a-4c2b-b40c-df73f07f705f",
   "metadata": {},
   "outputs": [
    {
     "name": "stdout",
     "output_type": "stream",
     "text": [
      "Number of monthly Climatlogy images is :  12\n",
      "\n"
     ]
    }
   ],
   "source": [
    "MonthlyClim_mean= ee.ImageCollection.fromImages(months.map(getMonthlyClimatology_mean).flatten()) \n",
    "count = MonthlyClim_mean.size()\n",
    "valCount=count.getInfo()\n",
    "print('Number of monthly Climatlogy images is : ', str(valCount)+'\\n')"
   ]
  },
  {
   "cell_type": "code",
   "execution_count": 32,
   "id": "c31fbd3b-5b51-487b-a90a-9b3ed379f39f",
   "metadata": {},
   "outputs": [],
   "source": [
    "def getMonthlyClimatology_std(mm):\n",
    "    img =  monthlyNDTI.filter(ee.Filter.calendarRange(sY,eY , 'year')).filter(ee.Filter.calendarRange(mm, mm, 'month'))\n",
    "    msum = img.reduce(ee.Reducer.stdDev())\n",
    "    timeStamp = ee.Date.fromYMD(sY,mm,1)\n",
    "    return msum.set({\n",
    "        'system:time_start': timeStamp.millis(),\n",
    "        'system:time_end':   timeStamp.millis(),\n",
    "        'year': sY,\n",
    "        'month': mm,\n",
    "        'date': timeStamp.millis()})"
   ]
  },
  {
   "cell_type": "code",
   "execution_count": 33,
   "id": "93e1a4fb-ea30-4379-822b-6f776376a332",
   "metadata": {},
   "outputs": [],
   "source": [
    "MonthlyClim_std= ee.ImageCollection.fromImages(months.map(getMonthlyClimatology_mean).flatten()) "
   ]
  },
  {
   "cell_type": "code",
   "execution_count": 34,
   "id": "eb15da4c-cd25-4b14-9a27-f4ba8bd9b37a",
   "metadata": {},
   "outputs": [
    {
     "name": "stdout",
     "output_type": "stream",
     "text": [
      "Number of monthly Climatlogy images STD is :  12\n",
      "\n"
     ]
    }
   ],
   "source": [
    "count = MonthlyClim_std.size()\n",
    "valCount=count.getInfo()\n",
    "print('Number of monthly Climatlogy images STD is : ', str(valCount)+'\\n')"
   ]
  },
  {
   "cell_type": "code",
   "execution_count": 35,
   "id": "13f5ac28-1c5e-4e93-8ad1-fbc1e566ebee",
   "metadata": {},
   "outputs": [
    {
     "data": {
      "application/vnd.jupyter.widget-view+json": {
       "model_id": "63cbfab3c1634ad7a2e456236c421d3a",
       "version_major": 2,
       "version_minor": 0
      },
      "text/plain": [
       "Map(bottom=335137.0, center=[54.37, -2.93], controls=(WidgetControl(options=['position', 'transparent_bg'], wi…"
      ]
     },
     "metadata": {},
     "output_type": "display_data"
    }
   ],
   "source": [
    "first_image = MonthlyClim_std.first()\n",
    "\n",
    "Map.centerObject(geometry,zoom_scale)\n",
    "Vis = {\n",
    "  'min': 0,\n",
    "  'max': 10,\n",
    "  'palette': palette}\n",
    "\n",
    "Map.addLayer(first_image, Vis, 'std')\n",
    "Map"
   ]
  },
  {
   "cell_type": "markdown",
   "id": "66648551-a9dd-4907-94a9-a5c50bbfe5f7",
   "metadata": {},
   "source": [
    "### Compute the standardized anomalies \n",
    "1. In this example you will calculate the standardized anomalies of monthly mean and using the monthly climatology (mean/std) estimated in the previous step \n",
    "2. The function **getStand_Anom** will take a sequence of months from 1-12 and iterate to:\n",
    "    2.1. select the corresponding image monthly mean\n",
    "    2.2. select the corresponding climatology mean and std\n",
    "    2.3. compute the standardize anomalies using the function **computeAnom**"
   ]
  },
  {
   "cell_type": "code",
   "execution_count": 37,
   "id": "481e1e57-921b-4dcf-8c76-a41331f5daa4",
   "metadata": {},
   "outputs": [],
   "source": [
    "def getStand_Anom(mm):\n",
    "    \n",
    "    imgcol  =  monthlyNDTI.filter(ee.Filter.calendarRange(sY,eY , 'year')).filter(ee.Filter.calendarRange(mm, mm, 'month'))\n",
    "    mimg_col =  MonthlyClim_mean.filter(ee.Filter.calendarRange(mm, mm, 'month'))\n",
    "    mimg = mimg_col.first().select(0)\n",
    "    \n",
    "    simg_col =  MonthlyClim_std.filter(ee.Filter.calendarRange(mm, mm, 'month'))\n",
    "    simg = simg_col.first().select(0)\n",
    "\n",
    "    def computeAnom(img):\n",
    "        timeStamp =  ee.Date(img.get('system:time_start'))\n",
    "        year= timeStamp.get('year')\n",
    "        month= timeStamp.get('month')\n",
    "        day= timeStamp.get('day')\n",
    "        \n",
    "        band=img.select(0)\n",
    "        A    = band.subtract(mimg)\n",
    "        Anom = A.divide(simg).rename('Anom').copyProperties(img, [\"system:time_start\"])\n",
    "        \n",
    "        Anom.set({\n",
    "            'system:time_start': timeStamp,\n",
    "            'year': year,\n",
    "            'month': month,\n",
    "            'day': day,            \n",
    "            'date': timeStamp})\n",
    "        return Anom\n",
    "    return imgcol.map(computeAnom)"
   ]
  },
  {
   "cell_type": "code",
   "execution_count": 39,
   "id": "e6a89764-64fe-4c12-b5b7-0fa893a723e8",
   "metadata": {},
   "outputs": [],
   "source": [
    "MonthlyAnom = ee.ImageCollection( # Cast result to ImageCollection\n",
    "  ee.FeatureCollection( # Create an intermediate FeatureCollection containing ImageCollections\n",
    "    months.map(getStand_Anom)\n",
    "  ).flatten() # Remove the intermediate feature collection with the merged image collections\n",
    ")"
   ]
  },
  {
   "cell_type": "code",
   "execution_count": 40,
   "id": "7604de50-f958-43d0-a355-82c129852ede",
   "metadata": {},
   "outputs": [
    {
     "name": "stdout",
     "output_type": "stream",
     "text": [
      "Number of MonthlyAnom is :  43\n",
      "\n"
     ]
    }
   ],
   "source": [
    "count = MonthlyAnom.size()\n",
    "valCount=count.getInfo()\n",
    "print('Number of MonthlyAnom is : ', str(valCount)+'\\n')"
   ]
  },
  {
   "cell_type": "code",
   "execution_count": 41,
   "id": "af77de51-615a-4f6a-a65c-1cc60f4e9cbf",
   "metadata": {},
   "outputs": [
    {
     "data": {
      "application/vnd.jupyter.widget-view+json": {
       "model_id": "63cbfab3c1634ad7a2e456236c421d3a",
       "version_major": 2,
       "version_minor": 0
      },
      "text/plain": [
       "Map(bottom=335137.0, center=[54.37, -2.93], controls=(WidgetControl(options=['position', 'transparent_bg'], wi…"
      ]
     },
     "metadata": {},
     "output_type": "display_data"
    }
   ],
   "source": [
    "first_image = MonthlyAnom.first()\n",
    "Vis = {\n",
    "  'min': -3,\n",
    "  'max': 3,\n",
    "  'palette': palette}\n",
    "Map.centerObject(geometry,zoom_scale)\n",
    "\n",
    "iname=ee.Date(first_image.get('system:time_start')).format(\"yyyy-MM-dd\")\n",
    "\n",
    "Map.addLayer(first_image, Vis, iname.getInfo())\n",
    "Map"
   ]
  },
  {
   "cell_type": "markdown",
   "id": "2224d32e-fb2e-44e7-8637-14ce5514f2fd",
   "metadata": {
    "tags": []
   },
   "source": [
    "## Time series extraction \n",
    "To work with a time series you can extract a point or a region. Here we will extract the time series of a box in the .\n",
    "To be able to do so the following steps are needed\n",
    "1. Select the region of interest (ROI);\n",
    "2. Clip the image to the ROI and average over the region;\n",
    "3. Extract the time series of the areal average;\n",
    "\n",
    "\n"
   ]
  },
  {
   "cell_type": "markdown",
   "id": "18a7863e-0beb-4565-8554-b3df137ed279",
   "metadata": {},
   "source": [
    "###  Select the region of interest\n",
    "- Select the lake region\n",
    "- There are a couple ways:  \n",
    "      - You can easily create a geojson file using the [interactive geojson map](https://geojson.io/)  \n",
    "      - Or define it as a box inside the Lake."
   ]
  },
  {
   "cell_type": "markdown",
   "id": "38493ac5-4804-4235-89c2-f0167fe46c69",
   "metadata": {},
   "source": [
    "* Add the polygon to the map to see if you have the bounds correct"
   ]
  },
  {
   "cell_type": "code",
   "execution_count": 42,
   "id": "088410f1-4dd0-4ade-ad2f-d77a8d1b9b9e",
   "metadata": {},
   "outputs": [],
   "source": [
    "Map.setCenter(-2.94, 54.381);\n",
    "Map.addLayer(aoi.bounds(),\n",
    "             {'color': 'red'},\n",
    "             'Result [red]: polygon.bounds')\n"
   ]
  },
  {
   "cell_type": "markdown",
   "id": "8a19e46b-b8d3-437f-8f13-81faa9f29b40",
   "metadata": {},
   "source": [
    "- The function **getTM4RoI** will iterate on the images in an image collection and use the nested function **iter_func** to extract the date and calculate the mean of a region using **.reduceRegion.** The function will return these values as a list of two columns ['Dates', 'NDTI']."
   ]
  },
  {
   "cell_type": "code",
   "execution_count": 43,
   "id": "8c0ce51f-d2b5-492e-b317-de41dba16248",
   "metadata": {},
   "outputs": [],
   "source": [
    "def getTM4RoI(imgcol):\n",
    "    def iter_func(image, newlist):\n",
    "        date = ee.Number.parse(image.date().format(\"YYYYMMdd\"))\n",
    "        stat= image.reduceRegion(\n",
    "            reducer = ee.Reducer.mean(),\n",
    "            geometry = aoi,\n",
    "            scale = 5000,\n",
    "            maxPixels=1e15)\n",
    "        newlist = ee.List(newlist)\n",
    "        return ee.List(newlist.add([date, stat]))\n",
    "    ymd = imgcol.iterate(iter_func, ee.List([]))\n",
    "    return list(ee.List(ymd).getInfo())"
   ]
  },
  {
   "cell_type": "markdown",
   "id": "7841c6ca-2306-4e9e-81d5-aa327229aa75",
   "metadata": {},
   "source": [
    "### Convert to a Data Frame\n",
    "The function **Convert2TM_DF** will take the generated list from **getTM4RoI** and convert to a *Pandas Data frame* with recognizable dates. This step will make time series analysis much easier. *Pandas Data frame* is a python library and is outside GEE."
   ]
  },
  {
   "cell_type": "code",
   "execution_count": 44,
   "id": "aacfcc0d-3f1e-430f-a0f1-f94c9734492a",
   "metadata": {},
   "outputs": [],
   "source": [
    "def Convert2TM_DF(inList):\n",
    "    newList =[]\n",
    "    for i, item in enumerate(inList):\n",
    "        val0=item[1].values()\n",
    "        if np.any(val0):\n",
    "            val=list(val0)\n",
    "            newList.append([item[0],val[0]])\n",
    "    DF=pd.DataFrame(newList,columns=['Dates' ,'NDTI'])\n",
    "    datetime_series = pd.to_datetime(DF['Dates'],format='%Y%m%d')\n",
    "    DF.drop('Dates', axis=1, inplace=True)\n",
    "    DF.set_index(datetime_series, inplace=True,drop=True)\n",
    "    DF.mask(DF.eq('None')).dropna()\n",
    "    return DF"
   ]
  },
  {
   "cell_type": "markdown",
   "id": "be164e79-0ccd-4982-9fb2-174e5fb39a3e",
   "metadata": {},
   "source": [
    "#### Extract various time series\n",
    "To do so, apply the function **getTM4RoI** first and then use its output in the function **Convert2TM_DF**\n",
    "Or you can do it in one run *res=Convert2TM_DF(getTM4RoI(ImgCol,Name))* as shown in later examples.\n",
    "\n",
    "- Extract three time series:\n",
    "    - NDTI  \n",
    "    - monthly mean *monthlyNDTI*\n",
    "    - monthly climatology  *MonthlyClim*\n",
    "    "
   ]
  },
  {
   "cell_type": "code",
   "execution_count": 45,
   "id": "48b35579-2c51-435e-b78d-3bf0ed8a66cd",
   "metadata": {},
   "outputs": [],
   "source": [
    "TM_NDTI  = Convert2TM_DF(getTM4RoI(ndti))\n",
    "TM_NDTI_m  = Convert2TM_DF(getTM4RoI(monthlyNDTI))\n",
    "TM_NDTI_mC  = Convert2TM_DF(getTM4RoI(MonthlyClim_mean))\n"
   ]
  },
  {
   "cell_type": "markdown",
   "id": "79e4b0f6-8a0a-4aa9-8e9f-372dd9be39eb",
   "metadata": {},
   "source": [
    "- Plot the monthly values"
   ]
  },
  {
   "cell_type": "code",
   "execution_count": 46,
   "id": "a74f265b-aadf-4a70-b1ad-44938f2f9b3f",
   "metadata": {},
   "outputs": [
    {
     "data": {
      "image/png": "[encoded data removed]",
      "text/plain": [
       "<Figure size 640x480 with 1 Axes>"
      ]
     },
     "metadata": {},
     "output_type": "display_data"
    }
   ],
   "source": [
    "plt.plot(TM_NDTI_m.index, TM_NDTI_m.NDTI)\n",
    "plt.xlabel(\"Date\")\n",
    "plt.ylabel(\"NDTI\")\n",
    "plt.title(\"Monthly NDTI in Windermeer\")\n",
    "plt.tight_layout()\n"
   ]
  },
  {
   "cell_type": "markdown",
   "id": "5f5591e6-538d-4a9e-88b0-38e0591c690e",
   "metadata": {},
   "source": [
    "## Calculate the anomalies on PANDAS data frame\n",
    " - In this section you will learn to compute the anomalies on the time series of the data frame in PANDAS.  \n",
    " - In comparison to GEE, you will notice how easy it is to perform the same operation in PNADAS.  \n",
    " "
   ]
  },
  {
   "cell_type": "code",
   "execution_count": 47,
   "id": "b8645489-5e77-4426-855e-3e0313a9e440",
   "metadata": {},
   "outputs": [],
   "source": [
    " Anom =TM_NDTI_m.groupby(TM_NDTI_m.index.month).transform(lambda x: (x-x.mean())/x.std())"
   ]
  },
  {
   "cell_type": "markdown",
   "id": "1df0eabc-c9c1-4532-9da7-bc133c694a5f",
   "metadata": {},
   "source": [
    "* Compare with  the anomalies extracted from the image"
   ]
  },
  {
   "cell_type": "code",
   "execution_count": 48,
   "id": "66cdea7f-9b38-4082-9b56-8d493c45a495",
   "metadata": {},
   "outputs": [],
   "source": [
    "TM_Anom=  Convert2TM_DF(getTM4RoI(MonthlyAnom))"
   ]
  },
  {
   "cell_type": "markdown",
   "id": "37043da6-d94e-4c16-8085-f13b6ba7cbf1",
   "metadata": {},
   "source": [
    "- Print the Data Frame of *TM_Anom*\n",
    "- Note the order of the time series."
   ]
  },
  {
   "cell_type": "code",
   "execution_count": 49,
   "id": "d57cb237-d90d-4035-a634-20d03ba0494c",
   "metadata": {},
   "outputs": [
    {
     "data": {
      "text/html": [
       "<div>\n",
       "<style scoped>\n",
       "    .dataframe tbody tr th:only-of-type {\n",
       "        vertical-align: middle;\n",
       "    }\n",
       "\n",
       "    .dataframe tbody tr th {\n",
       "        vertical-align: top;\n",
       "    }\n",
       "\n",
       "    .dataframe thead th {\n",
       "        text-align: right;\n",
       "    }\n",
       "</style>\n",
       "<table border=\"1\" class=\"dataframe\">\n",
       "  <thead>\n",
       "    <tr style=\"text-align: right;\">\n",
       "      <th></th>\n",
       "      <th>NDTI</th>\n",
       "    </tr>\n",
       "    <tr>\n",
       "      <th>Dates</th>\n",
       "      <th></th>\n",
       "    </tr>\n",
       "  </thead>\n",
       "  <tbody>\n",
       "    <tr>\n",
       "      <th>2018-01-01</th>\n",
       "      <td>0.203685</td>\n",
       "    </tr>\n",
       "    <tr>\n",
       "      <th>2019-01-01</th>\n",
       "      <td>0.257611</td>\n",
       "    </tr>\n",
       "    <tr>\n",
       "      <th>2020-01-01</th>\n",
       "      <td>-1.005543</td>\n",
       "    </tr>\n",
       "    <tr>\n",
       "      <th>2021-01-01</th>\n",
       "      <td>0.544247</td>\n",
       "    </tr>\n",
       "    <tr>\n",
       "      <th>2018-02-01</th>\n",
       "      <td>11.297956</td>\n",
       "    </tr>\n",
       "    <tr>\n",
       "      <th>2019-02-01</th>\n",
       "      <td>-7.026478</td>\n",
       "    </tr>\n",
       "    <tr>\n",
       "      <th>2021-02-01</th>\n",
       "      <td>-4.271478</td>\n",
       "    </tr>\n",
       "    <tr>\n",
       "      <th>2018-03-01</th>\n",
       "      <td>0.831164</td>\n",
       "    </tr>\n",
       "    <tr>\n",
       "      <th>2019-03-01</th>\n",
       "      <td>-1.621851</td>\n",
       "    </tr>\n",
       "    <tr>\n",
       "      <th>2020-03-01</th>\n",
       "      <td>1.315897</td>\n",
       "    </tr>\n",
       "    <tr>\n",
       "      <th>2021-03-01</th>\n",
       "      <td>-0.525210</td>\n",
       "    </tr>\n",
       "    <tr>\n",
       "      <th>2018-04-01</th>\n",
       "      <td>-1.004836</td>\n",
       "    </tr>\n",
       "    <tr>\n",
       "      <th>2019-04-01</th>\n",
       "      <td>0.155023</td>\n",
       "    </tr>\n",
       "    <tr>\n",
       "      <th>2020-04-01</th>\n",
       "      <td>0.781297</td>\n",
       "    </tr>\n",
       "    <tr>\n",
       "      <th>2021-04-01</th>\n",
       "      <td>0.068517</td>\n",
       "    </tr>\n",
       "    <tr>\n",
       "      <th>2018-05-01</th>\n",
       "      <td>-0.217975</td>\n",
       "    </tr>\n",
       "    <tr>\n",
       "      <th>2019-05-01</th>\n",
       "      <td>NaN</td>\n",
       "    </tr>\n",
       "    <tr>\n",
       "      <th>2020-05-01</th>\n",
       "      <td>0.073981</td>\n",
       "    </tr>\n",
       "    <tr>\n",
       "      <th>2021-05-01</th>\n",
       "      <td>0.143994</td>\n",
       "    </tr>\n",
       "    <tr>\n",
       "      <th>2018-06-01</th>\n",
       "      <td>-0.110165</td>\n",
       "    </tr>\n",
       "    <tr>\n",
       "      <th>2019-06-01</th>\n",
       "      <td>0.077011</td>\n",
       "    </tr>\n",
       "    <tr>\n",
       "      <th>2020-06-01</th>\n",
       "      <td>0.198065</td>\n",
       "    </tr>\n",
       "    <tr>\n",
       "      <th>2021-06-01</th>\n",
       "      <td>-0.164912</td>\n",
       "    </tr>\n",
       "    <tr>\n",
       "      <th>2018-07-01</th>\n",
       "      <td>-0.226556</td>\n",
       "    </tr>\n",
       "    <tr>\n",
       "      <th>2020-07-01</th>\n",
       "      <td>0.307727</td>\n",
       "    </tr>\n",
       "    <tr>\n",
       "      <th>2021-07-01</th>\n",
       "      <td>-0.081171</td>\n",
       "    </tr>\n",
       "    <tr>\n",
       "      <th>2018-08-01</th>\n",
       "      <td>-0.810098</td>\n",
       "    </tr>\n",
       "    <tr>\n",
       "      <th>2020-08-01</th>\n",
       "      <td>0.316226</td>\n",
       "    </tr>\n",
       "    <tr>\n",
       "      <th>2021-08-01</th>\n",
       "      <td>0.493872</td>\n",
       "    </tr>\n",
       "    <tr>\n",
       "      <th>2018-09-01</th>\n",
       "      <td>0.609655</td>\n",
       "    </tr>\n",
       "    <tr>\n",
       "      <th>2019-09-01</th>\n",
       "      <td>0.175623</td>\n",
       "    </tr>\n",
       "    <tr>\n",
       "      <th>2020-09-01</th>\n",
       "      <td>-0.372307</td>\n",
       "    </tr>\n",
       "    <tr>\n",
       "      <th>2021-09-01</th>\n",
       "      <td>-0.412971</td>\n",
       "    </tr>\n",
       "    <tr>\n",
       "      <th>2018-10-01</th>\n",
       "      <td>-0.427235</td>\n",
       "    </tr>\n",
       "    <tr>\n",
       "      <th>2019-10-01</th>\n",
       "      <td>-0.156970</td>\n",
       "    </tr>\n",
       "    <tr>\n",
       "      <th>2020-10-01</th>\n",
       "      <td>0.441877</td>\n",
       "    </tr>\n",
       "    <tr>\n",
       "      <th>2021-10-01</th>\n",
       "      <td>0.142329</td>\n",
       "    </tr>\n",
       "    <tr>\n",
       "      <th>2018-11-01</th>\n",
       "      <td>0.816945</td>\n",
       "    </tr>\n",
       "    <tr>\n",
       "      <th>2019-11-01</th>\n",
       "      <td>-0.059176</td>\n",
       "    </tr>\n",
       "    <tr>\n",
       "      <th>2021-11-01</th>\n",
       "      <td>-0.757769</td>\n",
       "    </tr>\n",
       "    <tr>\n",
       "      <th>2018-12-01</th>\n",
       "      <td>-0.003791</td>\n",
       "    </tr>\n",
       "    <tr>\n",
       "      <th>2019-12-01</th>\n",
       "      <td>1.052972</td>\n",
       "    </tr>\n",
       "    <tr>\n",
       "      <th>2021-12-01</th>\n",
       "      <td>-1.049180</td>\n",
       "    </tr>\n",
       "  </tbody>\n",
       "</table>\n",
       "</div>"
      ],
      "text/plain": [
       "                 NDTI\n",
       "Dates                \n",
       "2018-01-01   0.203685\n",
       "2019-01-01   0.257611\n",
       "2020-01-01  -1.005543\n",
       "2021-01-01   0.544247\n",
       "2018-02-01  11.297956\n",
       "2019-02-01  -7.026478\n",
       "2021-02-01  -4.271478\n",
       "2018-03-01   0.831164\n",
       "2019-03-01  -1.621851\n",
       "2020-03-01   1.315897\n",
       "2021-03-01  -0.525210\n",
       "2018-04-01  -1.004836\n",
       "2019-04-01   0.155023\n",
       "2020-04-01   0.781297\n",
       "2021-04-01   0.068517\n",
       "2018-05-01  -0.217975\n",
       "2019-05-01        NaN\n",
       "2020-05-01   0.073981\n",
       "2021-05-01   0.143994\n",
       "2018-06-01  -0.110165\n",
       "2019-06-01   0.077011\n",
       "2020-06-01   0.198065\n",
       "2021-06-01  -0.164912\n",
       "2018-07-01  -0.226556\n",
       "2020-07-01   0.307727\n",
       "2021-07-01  -0.081171\n",
       "2018-08-01  -0.810098\n",
       "2020-08-01   0.316226\n",
       "2021-08-01   0.493872\n",
       "2018-09-01   0.609655\n",
       "2019-09-01   0.175623\n",
       "2020-09-01  -0.372307\n",
       "2021-09-01  -0.412971\n",
       "2018-10-01  -0.427235\n",
       "2019-10-01  -0.156970\n",
       "2020-10-01   0.441877\n",
       "2021-10-01   0.142329\n",
       "2018-11-01   0.816945\n",
       "2019-11-01  -0.059176\n",
       "2021-11-01  -0.757769\n",
       "2018-12-01  -0.003791\n",
       "2019-12-01   1.052972\n",
       "2021-12-01  -1.049180"
      ]
     },
     "execution_count": 49,
     "metadata": {},
     "output_type": "execute_result"
    }
   ],
   "source": [
    "TM_Anom"
   ]
  },
  {
   "cell_type": "markdown",
   "id": "52d3e37b-7564-4655-8ac0-1faf7bce94da",
   "metadata": {},
   "source": [
    "* Sort the Date Frame so it is ascended according to time \n",
    "* Plot both Anomalies time series"
   ]
  },
  {
   "cell_type": "code",
   "execution_count": 51,
   "id": "c5843360-44b2-43a4-9327-364414a88a41",
   "metadata": {},
   "outputs": [],
   "source": [
    "TM_Anom.sort_values(by=\"Dates\", inplace = True)"
   ]
  },
  {
   "cell_type": "code",
   "execution_count": 52,
   "id": "a3b1d4d3-d3aa-41dd-9ce8-1792acae8185",
   "metadata": {},
   "outputs": [
    {
     "data": {
      "text/plain": [
       "[<matplotlib.lines.Line2D at 0xfffed67b8a30>]"
      ]
     },
     "execution_count": 52,
     "metadata": {},
     "output_type": "execute_result"
    },
    {
     "data": {
      "image/png": "[encoded data removed]",
      "text/plain": [
       "<Figure size 640x480 with 1 Axes>"
      ]
     },
     "metadata": {},
     "output_type": "display_data"
    }
   ],
   "source": [
    "plt.plot(Anom.index, Anom.NDTI,color = 'k', linestyle = '--')\n",
    "plt.plot(TM_Anom.index, TM_Anom.NDTI,color = 'r', linestyle = '-')\n"
   ]
  },
  {
   "cell_type": "markdown",
   "id": "f788aea6-f0d2-437d-bd6d-edec8618d616",
   "metadata": {},
   "source": [
    "- Can you explain the differences? "
   ]
  },
  {
   "cell_type": "markdown",
   "id": "6a7f3fb0-f69e-41cf-85b8-55b2eedfb8b5",
   "metadata": {},
   "source": [
    "- We can smooth the results by using a moving average  \n",
    "- The example below uses three months window  "
   ]
  },
  {
   "cell_type": "code",
   "execution_count": 53,
   "id": "1ff77304-c08e-4e79-a257-cc1d35139cbd",
   "metadata": {},
   "outputs": [],
   "source": [
    "Anom_smooth=Anom.rolling(window=3).mean()"
   ]
  },
  {
   "cell_type": "markdown",
   "id": "aaafa4ea-5839-4d6e-9ebf-19dc434dc761",
   "metadata": {},
   "source": [
    " ## Visualize\n",
    " 1. Here we will using the python library [Matplotlib] (https://matplotlib.org/).  \n",
    " 2. After plotting the anomalies, define a threshold values for highly turbid water, *say +0.3* and very clear water, *say -0.3*.  \n",
    " 3. Shade the areas to identify turbidity events.   \n",
    "    "
   ]
  },
  {
   "cell_type": "code",
   "execution_count": 216,
   "id": "983ed36f-bd91-4865-8108-af0262b43712",
   "metadata": {},
   "outputs": [
    {
     "data": {
      "text/plain": [
       "<matplotlib.legend.Legend at 0xfffec00ef1f0>"
      ]
     },
     "execution_count": 216,
     "metadata": {},
     "output_type": "execute_result"
    },
    {
     "data": {
      "image/png": "[encoded data removed]",
      "text/plain": [
       "<Figure size 640x480 with 1 Axes>"
      ]
     },
     "metadata": {},
     "output_type": "display_data"
    }
   ],
   "source": [
    "X=Anom.index\n",
    "Y=Anom.NDTI\n",
    "plt.plot(X, Y)\n",
    "plt.xlabel(\"Date\")\n",
    "plt.ylabel(\"Anomalies\")\n",
    "plt.title(\"Anomalies of NDTI in Windermeer\")\n",
    "plt.tight_layout()\n",
    "turbid=0.2\n",
    "clear=-0.2\n",
    "plt.axhline(y = 0, color = 'k', linestyle = '--')\n",
    "\n",
    "plt.axhline(y = turbid, color = 'r', linestyle = ':')\n",
    "\n",
    "plt.axhline(y = clear, color = 'b', linestyle = ':')\n",
    "\n",
    "plt.fill_between(X,Y, turbid,\n",
    "                 where=(Y >= turbid),\n",
    "                 alpha=0.30, color='red', interpolate=True,label='Turbid')\n",
    "plt.fill_between(X, Y, clear,\n",
    "                 where=(Y <= clear),\n",
    "                 alpha=0.30, color='blue', interpolate=True,label='Clear')\n",
    "\n",
    "plt.fill_between(X, clear, turbid, alpha=0.30, color='green',label='Normal')\n",
    "\n",
    "plt.legend()"
   ]
  },
  {
   "cell_type": "markdown",
   "id": "f5101129-e29a-4ab5-81f1-dafffb6827b4",
   "metadata": {},
   "source": [
    "## End of exercise"
   ]
  },
  {
   "cell_type": "code",
   "execution_count": null,
   "id": "1c3b8b1d-62b1-4bf3-be1e-b93b1aa214d1",
   "metadata": {},
   "outputs": [],
   "source": []
  }
 ],
 "metadata": {
  "kernelspec": {
   "display_name": "Python",
   "language": "python",
   "name": "python3"
  },
  "language_info": {
   "codemirror_mode": {
    "name": "ipython",
    "version": 3
   },
   "file_extension": ".py",
   "mimetype": "text/x-python",
   "name": "python",
   "nbconvert_exporter": "python",
   "pygments_lexer": "ipython3",
   "version": "3.8.10"
  }
 },
 "nbformat": 4,
 "nbformat_minor": 5
}
