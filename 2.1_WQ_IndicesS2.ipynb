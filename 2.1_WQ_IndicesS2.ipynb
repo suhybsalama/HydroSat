{
 "cells": [
  {
   "cell_type": "markdown",
   "id": "8f366b90-d0f4-4493-8aa9-581fba5db99a",
   "metadata": {},
   "source": [
    "![Banner](./../0-Course-info/images/bannerSoB.png)"
   ]
  },
  {
   "cell_type": "markdown",
   "id": "2df97f11-53ca-43b0-b5bb-f0adde3c0e56",
   "metadata": {},
   "source": [
    "# Water quality indices from Sentinel-2 MSI  \n",
    "\n",
    "**Author: Suhyb Salama, ITC**  \n",
    "\n",
    "## Purpose \n",
    "This exercise \n",
    "introduces you to working with water quality indices using Sentinel-2 MSI (S2-MSI) level 2A images (i.e. atmospherically corrected images). This is a python script in [jupyter notebook](https://jupyter.org/) and follows from the exercises presented in proceeding weeks.\n",
    "\n",
    "\n",
    "## Prerequisites\n",
    "- You should have an account in Google Earth Engine. If not done yet please [sign up now](https://earthengine.google.com/signup/).\n",
    "- You should have worked out the first two exercises of [exercise 1.1](./../1-Ocean-Climate/1.1_work_OC_TS.ipynb); and [exercise 1.2](./../1-Ocean-Climate/1.2_work_OC_TS.ipynb).\n",
    "\n",
    "## What you will learn\n",
    "1. Carry out cloud and shadow masking;\n",
    "2. Apply different indices for assessing water quality;  \n",
    "    2.1 Normalized Difference Water Index (**NDWI**);  \n",
    "    2.2 Normalized Difference Turbidity Index (**NDTI**);   \n",
    "    2.3 Normalized Difference Chlorophyll Index (**NDCI**);  \n",
    "3. Perform spatial subsets and areal aggregation;  \n",
    "4. visualize the results as maps and time series. \n",
    "\n",
    "## What will you achieve\n",
    "At the end of this exercise you will be able to use Google Earth Engine to access satellite data, assess water quality using band ratios and indices from S2-MSI.\n",
    "\n"
   ]
  },
  {
   "cell_type": "markdown",
   "id": "d4640676-5ee7-4ff1-b911-4ad9aca53ce8",
   "metadata": {},
   "source": [
    "## Introduction \n",
    "Load the required libraries and authenticate your Google account"
   ]
  },
  {
   "cell_type": "code",
   "execution_count": 2,
   "id": "0f31463c-ce7e-4708-aae5-9087f97054ed",
   "metadata": {},
   "outputs": [],
   "source": [
    "# import Google earth engine module\n",
    "import ee\n",
    "import geemap\n",
    "import geemap.colormaps as cm\n",
    "Map =geemap.Map()\n",
    "#import pandas as pd\n",
    "#import matplotlib.pyplot as plt"
   ]
  },
  {
   "cell_type": "markdown",
   "id": "cb69ddd8-1a19-41e7-9a5f-eb9181e1e2b1",
   "metadata": {},
   "source": [
    "**If you are not authenticated (logged in Google Earth) then you should acquire the authentication code, otherwise you can skip this cell**"
   ]
  },
  {
   "cell_type": "code",
   "execution_count": 3,
   "id": "5b1e4818-b0cf-4f5f-8bfb-220fc9a8d520",
   "metadata": {},
   "outputs": [
    {
     "data": {
      "text/html": [
       "<p>To authorize access needed by Earth Engine, open the following\n",
       "        URL in a web browser and follow the instructions:</p>\n",
       "        <p><a href=https://code.earthengine.google.com/client-auth?scopes=https%3A//www.googleapis.com/auth/earthengine%20https%3A//www.googleapis.com/auth/devstorage.full_control&request_id=uJj6H7coXzP6NIv-QLcP3quP7e41zCI60fzEFpB1fmk&tc=u2UHgH97lFEsA8g6gMYa6tVRW8k1qiHcNOiqfvbQMl4&cc=lEiC2FwmXDyW_O_oIJ1DvsLb3bpZpJx6rTAq0cfO-WM>https://code.earthengine.google.com/client-auth?scopes=https%3A//www.googleapis.com/auth/earthengine%20https%3A//www.googleapis.com/auth/devstorage.full_control&request_id=uJj6H7coXzP6NIv-QLcP3quP7e41zCI60fzEFpB1fmk&tc=u2UHgH97lFEsA8g6gMYa6tVRW8k1qiHcNOiqfvbQMl4&cc=lEiC2FwmXDyW_O_oIJ1DvsLb3bpZpJx6rTAq0cfO-WM</a></p>\n",
       "        <p>The authorization workflow will generate a code, which you should paste in the box below.</p>\n",
       "        "
      ],
      "text/plain": [
       "<IPython.core.display.HTML object>"
      ]
     },
     "metadata": {},
     "output_type": "display_data"
    },
    {
     "name": "stdin",
     "output_type": "stream",
     "text": [
      "Enter verification code:  4/1AVHEtk54vi1MDLykCA0SDTEAWeYoNyB_HtmvaGG67U6cha7Jvs7Kp4CnXcM\n"
     ]
    },
    {
     "name": "stdout",
     "output_type": "stream",
     "text": [
      "\n",
      "Successfully saved authorization token.\n"
     ]
    }
   ],
   "source": [
    "try:\n",
    "    ee.Initialize()\n",
    "except Exception as e:\n",
    "    ee.Authenticate()\n",
    "    ee.Initialize()"
   ]
  },
  {
   "cell_type": "markdown",
   "id": "a509cbb2-ef3d-447f-9b74-36dfd7c1ac87",
   "metadata": {},
   "source": [
    "## Data access  \n",
    "Request Google Earth Engine to access [Sentinel 2 data Level-2A data](https://developers.google.com/earth-engine/datasets/catalog/COPERNICUS_S2_SR_HARMONIZED). Level 2 means that these images are atmospherically corrected. To have a better understanding of data level of S2-MSI you can consult the [user guide of S2-MSI](https://sentinels.copernicus.eu/web/sentinel/user-guides/sentinel-2-msi/processing-levels)."
   ]
  },
  {
   "cell_type": "code",
   "execution_count": 4,
   "id": "f45c2eef-344a-4797-a7f2-cfd0aab4ec01",
   "metadata": {},
   "outputs": [],
   "source": [
    "s2_boa_col = ee.ImageCollection('COPERNICUS/S2_SR_HARMONIZED')"
   ]
  },
  {
   "cell_type": "markdown",
   "id": "a2f34fde-54c5-4dd6-853f-dd4584b2d16a",
   "metadata": {},
   "source": [
    "### Inquire the band names of S2-MSI image collection\n",
    "- Select one image (the first);\n",
    "- Inquire the bands names of this image and print.\n",
    "\n"
   ]
  },
  {
   "cell_type": "code",
   "execution_count": 5,
   "id": "15d8a0af-2b9d-4be1-92ae-867743573d80",
   "metadata": {},
   "outputs": [
    {
     "name": "stdout",
     "output_type": "stream",
     "text": [
      "system:band_names ['B1', 'B2', 'B3', 'B4', 'B5', 'B6', 'B7', 'B8', 'B8A', 'B9', 'B11', 'B12', 'AOT', 'WVP', 'SCL', 'TCI_R', 'TCI_G', 'TCI_B', 'MSK_CLDPRB', 'MSK_SNWPRB', 'QA10', 'QA20', 'QA60']\n"
     ]
    }
   ],
   "source": [
    "first_image = s2_boa_col.first()\n",
    "Bname = first_image.get('system:band_names')\n",
    "print('system:band_names', Bname.getInfo())"
   ]
  },
  {
   "cell_type": "markdown",
   "id": "8f773eca-683b-4ce0-b96b-f6ff68c46c8c",
   "metadata": {},
   "source": [
    "## Filter the S2-MSI image collection to:\n",
    "- area of interest *AOI*\n",
    "- time period *s_date* and *e_date*\n",
    "- cloud percentage *cld_per* and probability *cld_prb*"
   ]
  },
  {
   "cell_type": "code",
   "execution_count": 6,
   "id": "a7eaf7bc-97b4-44ee-afc4-5c3b4a680680",
   "metadata": {},
   "outputs": [],
   "source": [
    "aoi = ee.Geometry.Polygon([\n",
    "    [-2.98, 54.4],\n",
    "    [-2.98, 54.3],\n",
    "    [-2.95, 54.3],\n",
    "    [-2.95, 54.4],\n",
    "    [-2.98, 54.4]])\n",
    "\n",
    "s_date = '2018-01-01'\n",
    "e_date = '2021-12-31'\n",
    "cld_per = 20"
   ]
  },
  {
   "cell_type": "markdown",
   "id": "bb51fce9-4eed-4c73-9cfc-2ad10b4e150d",
   "metadata": {},
   "source": [
    "* Apply the filter on the [Sentinel-2 surface reflectance](https://developers.google.com/earth-engine/datasets/catalog/COPERNICUS_S2_SR_HARMONIZED) "
   ]
  },
  {
   "cell_type": "code",
   "execution_count": 7,
   "id": "e7bee3de-f0f0-4f5e-a484-17fcbdb6fcbb",
   "metadata": {},
   "outputs": [],
   "source": [
    "# filter s2-MSI bottom of atmosphere\n",
    "s2_boa_flt = s2_boa_col\\\n",
    "    .filterBounds(aoi)\\\n",
    "    .filterDate(s_date, e_date)\\\n",
    "    .filter(ee.Filter.lte('CLOUDY_PIXEL_PERCENTAGE', cld_per))"
   ]
  },
  {
   "cell_type": "markdown",
   "id": "5125bb2b-1395-461d-9917-99252dbe59b4",
   "metadata": {},
   "source": [
    "## Remove clouds and their shadows\n",
    "\n",
    "There are two ways: \n",
    " 1. Define a function to mask cloud and their shadows using the **SCL** class table:\n",
    "\n",
    "|Value|Description|\n",
    "| ---| ---|\n",
    "|1 |Saturated or defective|\n",
    "|2 |Dark Area Pixels|\n",
    "|3 |Cloud Shadows|\n",
    "|4 |Vegetation|\n",
    "|5 |Bare Soils|\n",
    "|6 |Water|\n",
    "|7 |Clouds Low Probability / Unclassified|\n",
    "|8 |Clouds Medium Probability|\n",
    "|9 |Clouds High Probability|\n",
    "|10|Cirrus|\n",
    "|11|Snow / Ice|\n",
    "\n",
    "You can build a function as:"
   ]
  },
  {
   "cell_type": "code",
   "execution_count": 8,
   "id": "06dc6166-1d84-4da1-979c-ea60f42e4273",
   "metadata": {},
   "outputs": [],
   "source": [
    "def mask_cloud_shadow(img):\n",
    "    # Identify good pixels from the SCL band.\n",
    "    good_pixels = img.select('SCL').eq(6)#.neq(1).neq(3).lt(7)\n",
    "    #noLand = img.select('B11').lt(50)\n",
    "    return img.updateMask(good_pixels).divide(10000)"
   ]
  },
  {
   "cell_type": "markdown",
   "id": "48dd956a-4150-4a86-9098-c30fef221358",
   "metadata": {},
   "source": [
    "2- The second approach is to use the Quality Check band *QA* at 60 meter resolution.  \n",
    "\n",
    " *This approach produce better results than the classification of the **SCL** shown above*"
   ]
  },
  {
   "cell_type": "code",
   "execution_count": 9,
   "id": "f1515865-9581-469b-a8c5-271742bbe2ad",
   "metadata": {},
   "outputs": [],
   "source": [
    "def s2_cloud_mask(image):\n",
    "    quality_band = image.select('QA60')\n",
    "    \n",
    "    # using the bit mask for clouds and cirrus clouds respectively\n",
    "     # Bits 10 and 11 are clouds and cirrus, respectively.\n",
    "    cloudmask = 1 << 10\n",
    "    cirrusmask = 1 << 11\n",
    "    \n",
    "    # we only want clear skies\n",
    "    mask = quality_band.bitwiseAnd(cloudmask).eq(0) and (quality_band.bitwiseAnd(cirrusmask).eq(0))\n",
    "    \n",
    "    # we'll divide by 10000 to make interpreting the reflectance values easier\n",
    "    return image.updateMask(mask).divide(10000).copyProperties(image, [\"system:time_start\"])"
   ]
  },
  {
   "cell_type": "markdown",
   "id": "b2f751c6-165f-4fed-aa99-a37c15517921",
   "metadata": {},
   "source": [
    "## Generate a cloud-free composite\n",
    "- Apply the cloud and shadow mask function **mask_cloud_shadow**"
   ]
  },
  {
   "cell_type": "code",
   "execution_count": 10,
   "id": "b416b92c-b542-413f-8b98-f08a6f15696e",
   "metadata": {},
   "outputs": [],
   "source": [
    "s2_boa_cloudfree=s2_boa_flt.map(s2_cloud_mask)"
   ]
  },
  {
   "cell_type": "markdown",
   "id": "b4445395-f0c9-405b-92b9-48ed08c5cdbb",
   "metadata": {},
   "source": [
    "- Reduce the image collection to to show the mean or median\n"
   ]
  },
  {
   "cell_type": "code",
   "execution_count": 11,
   "id": "6a103cc6-9833-4aa6-a211-3a76d7c2cc58",
   "metadata": {},
   "outputs": [],
   "source": [
    "means2_sr = s2_boa_cloudfree.reduce(ee.Reducer.mean())\n"
   ]
  },
  {
   "cell_type": "markdown",
   "id": "d1d05eb0-a982-4cbc-84ce-9244b5dfa4da",
   "metadata": {},
   "source": [
    "- Inquire the bands' names after the **reduce** operation"
   ]
  },
  {
   "cell_type": "code",
   "execution_count": 12,
   "id": "1eaef07b-6d14-4ad8-915b-1b001a128b41",
   "metadata": {},
   "outputs": [
    {
     "name": "stdout",
     "output_type": "stream",
     "text": [
      "['B1_mean', 'B2_mean', 'B3_mean', 'B4_mean', 'B5_mean', 'B6_mean', 'B7_mean', 'B8_mean', 'B8A_mean', 'B9_mean', 'B11_mean', 'B12_mean', 'AOT_mean', 'WVP_mean', 'SCL_mean', 'TCI_R_mean', 'TCI_G_mean', 'TCI_B_mean', 'MSK_CLDPRB_mean', 'MSK_SNWPRB_mean', 'QA10_mean', 'QA20_mean', 'QA60_mean']\n"
     ]
    }
   ],
   "source": [
    "Bname = means2_sr.get('system:band_names')\n",
    "Bnames =  Bname.getInfo()\n",
    "print(Bnames)"
   ]
  },
  {
   "cell_type": "markdown",
   "id": "30c16a90-cc2c-4d9b-9153-311bee5ec7fd",
   "metadata": {},
   "source": [
    "- Display the mean/median in  **GEEMAP** using bands 2, 3 and 5"
   ]
  },
  {
   "cell_type": "code",
   "execution_count": 13,
   "id": "bc037674-0d66-49a3-8b5c-ec4fcc10503a",
   "metadata": {},
   "outputs": [],
   "source": [
    "rgbVis = {\n",
    "    'min':0.0,\n",
    "    'max':0.1,\n",
    "    'bands':[Bnames[4],Bnames[2],Bnames[1]],\n",
    "}"
   ]
  },
  {
   "cell_type": "code",
   "execution_count": 14,
   "id": "09cb079b-6c13-46e8-ac71-7daeae00b18e",
   "metadata": {
    "tags": []
   },
   "outputs": [
    {
     "data": {
      "application/vnd.jupyter.widget-view+json": {
       "model_id": "024d44860bc844aeb4c96b71117b4a42",
       "version_major": 2,
       "version_minor": 0
      },
      "text/plain": [
       "Map(center=[20, 0], controls=(WidgetControl(options=['position', 'transparent_bg'], widget=HBox(children=(Togg…"
      ]
     },
     "metadata": {},
     "output_type": "display_data"
    }
   ],
   "source": [
    "Map.addLayer(means2_sr, rgbVis, 'SAms2',1)\n",
    "#show the map\n",
    "Map"
   ]
  },
  {
   "cell_type": "markdown",
   "id": "7b7321bf-459f-4458-907a-d9af3cb07146",
   "metadata": {},
   "source": [
    "# Generate water quality indices"
   ]
  },
  {
   "cell_type": "markdown",
   "id": "0af80faa-b42b-4ae6-8b08-003150299e5c",
   "metadata": {},
   "source": [
    "[Here below we list the bands of Sentinel 2, more information is in this link](https://sentinels.copernicus.eu/web/sentinel/user-guides/sentinel-2-msi/resolutions/spatial)\n",
    "\n",
    "\n",
    "|Sentinel-2 Bands|Name convention in this course|Central Wavelength (µm)|Resolution (m)|\n",
    "|---|---|---|---|\n",
    "|Band 1 - Coastal aerosol|Violet|0.443|60|\n",
    "|Band 2 - Blue|Blue|0.49|10|\n",
    "|Band 3 - Green|Green|0.56|10|\n",
    "|Band 4 - Red|Red|0.665|10|\n",
    "|Band 5 - Vegetation Red Edge|redEdge1|0.705|20|\n",
    "|Band 6 - Vegetation Red Edge|redEdge2|0.74|20|\n",
    "|Band 7 - Vegetation Red Edge|redEdge3|0.783|20|\n",
    "|Band 8 - NIR|NIR_1|0.842|10|\n",
    "|Band 8A - Vegetation Red Edge|NIR_2|0.865|20|\n",
    "|Band 9 - Water vapour|NIR_3|0.945|60|\n",
    "|Band 10 - SWIR - Cirrus|SWIR1|1.375|60|\n",
    "|Band 11 - SWIR|SWIR2|1.61|20|\n",
    "|Band 12 - SWIR|SWIR3|2.19|20|\n"
   ]
  },
  {
   "cell_type": "markdown",
   "id": "c60a7400-8af0-46b8-898b-c180f0c8e9a2",
   "metadata": {},
   "source": [
    "## Normalized difference water index (NDWI) \n",
    "- [Normalized difference water index (NDWI)](https://doi.org/10.1016/S0034-4257(96)00067-3) is a satellite based index used for mapping and detecting surface water bodies.  \n",
    "- Water absorbs electromagnetic radiation in visible to infrared spectrum, that is why green and Near Infrared (NIR) bands are used to detect the water bodies.\n",
    "\n",
    "- For Sentinel-2 we will use the green (Band 3 centered at 560 nm ) and NIR_1 (Band 8 centered at 842 nm) bands for generating NDWI. Sentinel-2 has a second NIR bands centered at 865 nm. \n",
    "  \n",
    " $$\n",
    " NDWI = \\frac{Band(green)- Band(NIR_1)}{Band(green) + Band(NIR_1)}\n",
    " $$\n",
    "\n",
    "- NDWI varies between [-1 and +1], positive values are most likely water bodies."
   ]
  },
  {
   "cell_type": "code",
   "execution_count": 15,
   "id": "157e639e-aa51-402d-8bdb-50e39c9a420e",
   "metadata": {
    "tags": []
   },
   "outputs": [],
   "source": [
    "def get_ndwi(img):\n",
    "    date = img.date()\n",
    "    green_band = img.select('B3')\n",
    "    nir_band   = img.select('B8') \n",
    "    A = green_band.subtract(nir_band)\n",
    "    B = green_band.add(nir_band)\n",
    "    ndwi = A.divide(B).rename('ndwi').copyProperties(img, [\"system:time_start\"])\n",
    "    ndwi.set({\n",
    "            'system:time_start': date,\n",
    "            'system:time_end': date,\n",
    "            'year': date.get('year'),\n",
    "            'month': date.get('month'),\n",
    "            'date': date})\n",
    "    return ndwi\n"
   ]
  },
  {
   "cell_type": "markdown",
   "id": "3cac8d97-8049-473a-8902-36da249a9aa8",
   "metadata": {},
   "source": [
    "## Normalized difference turbidity index (NDTI)\n",
    "- [The Normalize Difference Turbidity Index (NDTI)](https://doi.org/10.1016/j.rse.2006.07.012) is used to estimate the turbidity in water bodies.   \n",
    "\n",
    "- It uses the phenomenon that reflectance is higher in green than the red for clear water. Hence, with increased turbidity, the reflectance of red band also increases. \n",
    "\n",
    "- NDTI for Sentinel-2 uses the green (Band 3 centered at 560 nm) and red (Band 4 centered at 665 nm) bands.  \n",
    "\n",
    "$$\n",
    "NDTI=\\frac{Band(red)-Band(green)}{Band(red)+Band(green)}\n",
    "$$"
   ]
  },
  {
   "cell_type": "code",
   "execution_count": 16,
   "id": "ff109605-38ff-4ac4-925b-9ab89069071f",
   "metadata": {},
   "outputs": [],
   "source": [
    "def get_ndti(img):\n",
    "    date = img.date()\n",
    "    green_band = img.select('B3')\n",
    "    red_band   = img.select('B4')\n",
    "    A = red_band.subtract(green_band)\n",
    "    B = red_band.add(green_band)\n",
    "    ndti = A.divide(B).rename('ndti').copyProperties(img, [\"system:time_start\"])\n",
    "    ndti.set({\n",
    "        'system:time_start': date,\n",
    "        'system:time_end': date,\n",
    "        'year': date.get('year'),\n",
    "        'month': date.get('month'),\n",
    "        'date': date})\n",
    "    return ndti"
   ]
  },
  {
   "cell_type": "markdown",
   "id": "1220a0f2-ceb1-40ed-a0d3-cfc627a64231",
   "metadata": {},
   "source": [
    "## Normalized difference chlorophyll index\n",
    "\n",
    "[Normalized difference chlorophyll index (NDCI)](https://doi.org/10.1016/j.rse.2011.10.016) is used to estimate the content of phytoplankton in water bodies.\n",
    "\n",
    "- This index uses the information from the reflectance peak centered at the red edge band 705 nm  (redEdge1 band) which is maximally sensitive to the variations in chlorophyll-a (chl-a) concentration in water. Similarly, a wide spectral absorption peak between 665 nm and 675 nm (red band) is generally assigned to the absorption by chl-a pigments (red band centered at 665 nm).\n",
    "\n",
    "- Accordingly, in the current exercise, Sentinel-2 red (band 4) and far-red (band 5) bands are used to create the NDCI.  \n",
    "\n",
    "$$\n",
    "NDCI=\\frac{Band(redEdge1)-Band(red)}{Band(red)+Band(redEdge1)}\n",
    "$$\n"
   ]
  },
  {
   "cell_type": "code",
   "execution_count": 17,
   "id": "b29d49f3-1e2c-44da-be85-562ad0109a62",
   "metadata": {},
   "outputs": [],
   "source": [
    "def get_ndci(img):\n",
    "    date = img.date()\n",
    "    red_band = img.select('B4')\n",
    "    redEdge1_band  = img.select('B5')\n",
    "    A = redEdge1_band.subtract(red_band)\n",
    "    B = redEdge1_band.add(red_band)\n",
    "    ndci = A.divide(B).rename('ndci').copyProperties(img, [\"system:time_start\"])\n",
    "    ndci.set({\n",
    "        'system:time_start': date,\n",
    "        'system:time_end': date,\n",
    "        'year': date.get('year'),\n",
    "        'month': date.get('month'),\n",
    "        'date': date})\n",
    "    return ndci"
   ]
  },
  {
   "cell_type": "markdown",
   "id": "a07395c5-aa31-40f4-bdce-04df005fcf36",
   "metadata": {},
   "source": [
    "## Algal bloom detection index (ABDI)\n",
    "[Algal Bloom Detection Index (ABDI)](https://doi.org/10.1080/01431161.2021.1897186) consists of two parts. The first part is mainly used to extract algal blooms, which is expressed as the difference between band 6 reflectance centered at 740 nm (farRed2 band) and a baseline between red and NIR_2 bands. Accordingly, the second part of ABDI was designed to eliminate the impact of turbid water, which is achieved by subtracting half of the green band reflectance from the red band.\n",
    "\n",
    "\n",
    "$$\n",
    "ABDI = \\left[Band(redEdge2)-Band(red) -0.375\\left(Band(NIR_2)-Band(red)\\right)\\right]\\\\\n",
    "- \\left[Band(red)-0.5Band(green)\\right]\n",
    "$$\n",
    "\n",
    "The constant of 0.375 in the above equation follows for the ratio\n",
    "$$\n",
    "\\frac{\\lambda(redEdge2)-\\lambda(red)}{\\lambda(NIR_2)-\\lambda(red)}=\\frac{740-665}{865-665}=0.375\n",
    "$$\n",
    "- Note that ABDI applies to bands with different spatial resolution, e.e B3 is at 20 m while B4 is at 10 m.\n",
    "- Therefore a re-sampling is required before being able to apply the ABDI."
   ]
  },
  {
   "cell_type": "markdown",
   "id": "6b0f363b-3bdc-424a-99db-387183f0788e",
   "metadata": {},
   "source": [
    "## Resampling Sentinel-2 bands"
   ]
  },
  {
   "cell_type": "code",
   "execution_count": 18,
   "id": "7ba49510-faf1-4944-a6c1-324137fc0d76",
   "metadata": {},
   "outputs": [],
   "source": [
    "def get_ABDI(img):\n",
    "    date = img.date()\n",
    "    green_band = img.select('B3')\n",
    "    red_band   = img.select('B4')\n",
    "    redEdg2_band20   = img.select('B6')\n",
    "    NIR2_20    = img.select('B8A')\n",
    "    proj_10m = green_band.projection()#this is an object with all the information about the projection needed for a 10m resolution\n",
    "    \n",
    "    redEdg2_band10 =  redEdg2_band20.resample('bilinear').reproject(proj_10m)\n",
    "    NIR2_10 = NIR2_20.resample('bilinear').reproject(proj_10m)\n",
    "    \n",
    "    A =  redEdg2_band10.subtract(red_band)\n",
    "    B =NIR2_10.subtract(red_band)\n",
    "    C=A.subtract(B.multiply(0.375))\n",
    "    D = red_band.subtract(green_band.multiply(0.5))\n",
    "    abdi = C.subtract(D).rename('abdi').copyProperties(img, [\"system:time_start\"])\n",
    "    abdi.set({\n",
    "        'system:time_start': date,\n",
    "        'system:time_end': date,\n",
    "        'year': date.get('year'),\n",
    "        'month': date.get('month'),\n",
    "        'date': date})\n",
    "    return abdi"
   ]
  },
  {
   "cell_type": "code",
   "execution_count": 19,
   "id": "9ad60d4d-3ecb-45f1-b8ec-822b03db0223",
   "metadata": {},
   "outputs": [],
   "source": [
    "ndwi=s2_boa_cloudfree.map(get_ndwi)\n",
    "ndti=s2_boa_cloudfree.map(get_ndti)\n",
    "ndci=s2_boa_cloudfree.map(get_ndci)\n",
    "abdi=s2_boa_cloudfree.map(get_ABDI)"
   ]
  },
  {
   "cell_type": "code",
   "execution_count": 22,
   "id": "e34d81db-60a1-448e-b427-4a4d7bcb4df9",
   "metadata": {},
   "outputs": [
    {
     "data": {
      "application/vnd.jupyter.widget-view+json": {
       "model_id": "024d44860bc844aeb4c96b71117b4a42",
       "version_major": 2,
       "version_minor": 0
      },
      "text/plain": [
       "Map(bottom=1762.0, center=[54.37, -2.93], controls=(WidgetControl(options=['position', 'transparent_bg'], widg…"
      ]
     },
     "metadata": {},
     "output_type": "display_data"
    }
   ],
   "source": [
    "val= cm.palettes.Spectral\n",
    "palette=val.default\n",
    "\n",
    "Vis = {\n",
    "  'min': -1,\n",
    "  'max': 1,\n",
    "  'palette': palette}\n",
    "zoom_scale = 12\n",
    "u_lon= -2.93\n",
    "u_lat =54.37\n",
    "# establish a geometry feature from the point and the scale and center the map to it\n",
    "geometry = ee.Geometry.Point(u_lon,u_lat)\n",
    "\n",
    "\n",
    "Map.centerObject(geometry,zoom_scale)\n",
    "Map.addLayer(ndwi.first(), Vis, 'ndwi')\n",
    "Map.addLayer(ndti.first(), Vis, 'ndti')\n",
    "Map.addLayer(ndci.first(), Vis, 'ndci')\n",
    "Map.addLayer(abdi.first(), Vis, 'abdi')\n",
    "Map"
   ]
  },
  {
   "cell_type": "markdown",
   "id": "7fa84a67-aded-495a-a8c2-be7805c624a1",
   "metadata": {},
   "source": [
    "### Mask out the non-water pixels \n",
    "- Retrieve water pixels using the Normalized difference water index (NDWI)   \n",
    "- There are two ways to mask the time series of derived water quality indices:  \n",
    "    1- Make an average of \"permanent\" water pixels, by taking the average or median of NDWI. Then use the resulting \"average/median\" NDWI to mask non-water pixels.  \n",
    "    2- Mask each water quality image with the corresponding NDWI.  \n",
    "- In this exercise we will apply the second \"more difficult\" solution.  \n",
    "    a- join the image collection of the NDWI with the image collection of the water quality index, using the **join function**.\n",
    "    b- to join two image collection, we define the index as the primary and the NDWI as the secondary source, in addition to the condition of joining (time).   \n",
    "    A join operation returns elements from the primary collection that match any element in the secondary collection according to the match condition in the filter.  \n",
    "    c- **saveFirst** is to add the first match to the collection as an additional property  \n",
    "    d- after joining the two collection, apply the function **s2_land_mask** which uses the NDWI to mask out the non-water pixels.  "
   ]
  },
  {
   "cell_type": "code",
   "execution_count": 104,
   "id": "dec74edb-960a-4fca-a483-5463215c7276",
   "metadata": {},
   "outputs": [],
   "source": [
    "join_imgs_coll = ee.ImageCollection(ee.Join.saveFirst('landMask').apply(abdi,ndwi,ee.Filter.equals(leftField= 'system:time_start',rightField = 'system:time_start')))\n",
    "def s2_land_mask(img):\n",
    "    nowater = ee.Image(img.get('landMask')).gt(0)\n",
    "    return img.updateMask(nowater)\n",
    "\n",
    "masked_abdi = join_imgs_coll.map(s2_land_mask)"
   ]
  },
  {
   "cell_type": "code",
   "execution_count": 147,
   "id": "8e2c2b1d-21aa-4fa8-afcb-502636702d3a",
   "metadata": {},
   "outputs": [],
   "source": [
    "Map.addLayer(masked_abdi.first().select('abdi'), Vis, 'Masked_abdi')\n"
   ]
  },
  {
   "cell_type": "markdown",
   "id": "2224d32e-fb2e-44e7-8637-14ce5514f2fd",
   "metadata": {
    "tags": []
   },
   "source": [
    "## End of exercise assignment\n",
    "You have generated four indices for S2-MSI:\n",
    "- use the normalized difference water index (NDWI) to mask the water pixels;\n",
    "- use the exercise of the previous week to compute the monthly and yearly mean in addition monthly climatology\n",
    "- evaluate the seasonality of each index;\n",
    "- evaluate how the indices are related to each other’s.\n",
    "\n"
   ]
  },
  {
   "cell_type": "code",
   "execution_count": null,
   "id": "3d64fb1d-4ed3-468a-b0f3-d52eff9a327a",
   "metadata": {},
   "outputs": [],
   "source": []
  }
 ],
 "metadata": {
  "kernelspec": {
   "display_name": "Python",
   "language": "python",
   "name": "python3"
  },
  "language_info": {
   "codemirror_mode": {
    "name": "ipython",
    "version": 3
   },
   "file_extension": ".py",
   "mimetype": "text/x-python",
   "name": "python",
   "nbconvert_exporter": "python",
   "pygments_lexer": "ipython3",
   "version": "3.8.10"
  }
 },
 "nbformat": 4,
 "nbformat_minor": 5
}
