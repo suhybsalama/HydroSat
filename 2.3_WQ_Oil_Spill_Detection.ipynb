{
 "cells": [
  {
   "cell_type": "markdown",
   "id": "8f366b90-d0f4-4493-8aa9-581fba5db99a",
   "metadata": {},
   "source": [
    "![Banner](./../0-Course-info/images/bannerSoB.png)"
   ]
  },
  {
   "cell_type": "markdown",
   "id": "2df97f11-53ca-43b0-b5bb-f0adde3c0e56",
   "metadata": {},
   "source": [
    "# Oil spill detection in water bodies  \n",
    "\n",
    "**Author: Suhyb Salama, ITC**  \n",
    "\n",
    "\n",
    "## Purpose \n",
    "This exercise introduces new remote sensing technology to detect water pollution resulting from oil spills. In this exercise you will use [Sentinel-1](https://sentinel.esa.int/web/sentinel/missions/sentinel-1/overview) observation in coastal waters. Sentinel-1 has a synthetic aperture radar (SAR) that transmits microwave signals in the *C band, centered at frequency of 5.405 GHz*, and receives back its echo or the backscattered signal from the Earth’s surface. Because it is an active sensing with in the microwave region, it can observe through nights, clouds and rain, detecting changes in the water surface after events such as oil spill.\n",
    "\n",
    "\n",
    "## Prerequisites\n",
    "- You should have an account in Google Earth Engine. If not done yet please [sign up now](https://earthengine.google.com/signup/).\n",
    "- You should have attended the lecture on oil spill mapping;\n",
    "\n",
    "## What you will learn\n",
    "1. Access and Sentinel-1 observations;\n",
    "2. Detect oil spill in water; \n",
    "3. Visualize the results as maps. \n",
    "\n",
    "## What will you achieve\n",
    "At the end of this exercise you will be able to use Google Earth Engine to access Sentinel-1 images, assess the surface roughness of the water and detect oil spill.\n",
    "\n"
   ]
  },
  {
   "cell_type": "markdown",
   "id": "d4640676-5ee7-4ff1-b911-4ad9aca53ce8",
   "metadata": {},
   "source": [
    "## Introduction \n",
    "**Oil spill will dampen the roughness of the water surface, decreasing thereby the received backscattering  signal.**\n",
    "\n"
   ]
  },
  {
   "cell_type": "markdown",
   "id": "12dcd039-e776-4185-8139-62b0fc6574f4",
   "metadata": {},
   "source": [
    "### Start \n",
    "Load the required libraries and authenticate your Google account"
   ]
  },
  {
   "cell_type": "code",
   "execution_count": 1,
   "id": "0f31463c-ce7e-4708-aae5-9087f97054ed",
   "metadata": {},
   "outputs": [],
   "source": [
    "# import Google earth engine module\n",
    "import ee\n",
    "import geemap\n",
    "import geemap.colormaps as cm\n",
    "Map =geemap.Map()\n",
    "#import pandas as pd\n",
    "#import matplotlib.pyplot as plt"
   ]
  },
  {
   "cell_type": "markdown",
   "id": "cb69ddd8-1a19-41e7-9a5f-eb9181e1e2b1",
   "metadata": {},
   "source": [
    "**If you are not authenticated (logged in Google Earth) then you should acquire the authentication code, otherwise you can skip this cell**"
   ]
  },
  {
   "cell_type": "code",
   "execution_count": 2,
   "id": "5b1e4818-b0cf-4f5f-8bfb-220fc9a8d520",
   "metadata": {},
   "outputs": [
    {
     "data": {
      "text/html": [
       "<p>To authorize access needed by Earth Engine, open the following\n",
       "        URL in a web browser and follow the instructions:</p>\n",
       "        <p><a href=https://code.earthengine.google.com/client-auth?scopes=https%3A//www.googleapis.com/auth/earthengine%20https%3A//www.googleapis.com/auth/devstorage.full_control&request_id=wtu-jhLDiw_Ir-Yz3oDazWo3_MuQsyY3TidkbrjQocg&tc=9jKubPsmDnGLRH8R9myTDgab28-fL2EixZBllmDaZic&cc=TV3cFbl5wsv03A7tNTEFjJMbcBKe-NHHgXhhYx1D-EU>https://code.earthengine.google.com/client-auth?scopes=https%3A//www.googleapis.com/auth/earthengine%20https%3A//www.googleapis.com/auth/devstorage.full_control&request_id=wtu-jhLDiw_Ir-Yz3oDazWo3_MuQsyY3TidkbrjQocg&tc=9jKubPsmDnGLRH8R9myTDgab28-fL2EixZBllmDaZic&cc=TV3cFbl5wsv03A7tNTEFjJMbcBKe-NHHgXhhYx1D-EU</a></p>\n",
       "        <p>The authorization workflow will generate a code, which you should paste in the box below.</p>\n",
       "        "
      ],
      "text/plain": [
       "<IPython.core.display.HTML object>"
      ]
     },
     "metadata": {},
     "output_type": "display_data"
    },
    {
     "name": "stdin",
     "output_type": "stream",
     "text": [
      "Enter verification code:  4/1AfgeXvu84Ndx7UwBkcZXLV9PHOczfuk7NmOKHBvkcOm0-JufJvRIWQbwqqA\n"
     ]
    },
    {
     "name": "stdout",
     "output_type": "stream",
     "text": [
      "\n",
      "Successfully saved authorization token.\n"
     ]
    }
   ],
   "source": [
    "# Trigger the authentication flow.\n",
    "ee.Authenticate()\n",
    "\n",
    "# Initialize the library.\n",
    "ee.Initialize()"
   ]
  },
  {
   "cell_type": "markdown",
   "id": "a509cbb2-ef3d-447f-9b74-36dfd7c1ac87",
   "metadata": {},
   "source": [
    "## Data access  \n",
    "Request Google Earth Engine to access [Sentinel 1 detected ground range](https://developers.google.com/earth-engine/datasets/catalog/COPERNICUS_S1_GRD). The retrieved images are calibrated and ortho-corrected products. To have a better understanding of the pre-processing required to handle Sentinel-1 data you can consult the [user guide of S1-SAR](https://sentinels.copernicus.eu/web/sentinel/user-guides/sentinel-1-sar/product-types-processing-levels/level-1)."
   ]
  },
  {
   "cell_type": "code",
   "execution_count": 2,
   "id": "f45c2eef-344a-4797-a7f2-cfd0aab4ec01",
   "metadata": {},
   "outputs": [],
   "source": [
    "s1_coll = ee.ImageCollection(\"COPERNICUS/S1_GRD\")"
   ]
  },
  {
   "cell_type": "markdown",
   "id": "a2f34fde-54c5-4dd6-853f-dd4584b2d16a",
   "metadata": {},
   "source": [
    "### Inquire the band names of S1 image collection\n",
    "- Select one image (the first);\n",
    "- Inquire the bands names of this image and print.\n",
    "\n"
   ]
  },
  {
   "cell_type": "code",
   "execution_count": 3,
   "id": "15d8a0af-2b9d-4be1-92ae-867743573d80",
   "metadata": {},
   "outputs": [
    {
     "name": "stdout",
     "output_type": "stream",
     "text": [
      "system:band_names ['HH', 'HV', 'angle']\n"
     ]
    }
   ],
   "source": [
    "first_image = s1_coll.first()\n",
    "Bname = first_image.get('system:band_names')\n",
    "print('system:band_names', Bname.getInfo())"
   ]
  },
  {
   "cell_type": "markdown",
   "id": "8f773eca-683b-4ce0-b96b-f6ff68c46c8c",
   "metadata": {},
   "source": [
    "## Filter the S image collection to:\n",
    "- area of interest *AOI*\n",
    "- time period *s_date* and *e_date*\n",
    "- cloud percentage *cld_per* and probability *cld_prb*"
   ]
  },
  {
   "cell_type": "code",
   "execution_count": 4,
   "id": "a7eaf7bc-97b4-44ee-afc4-5c3b4a680680",
   "metadata": {},
   "outputs": [],
   "source": [
    "aoi = ee.Geometry.Polygon([\n",
    "            [\n",
    "              9.121852596502947,\n",
    "              43.20142752427495\n",
    "            ],\n",
    "            [\n",
    "              9.121852596502947,\n",
    "              42.55051822581004\n",
    "            ],\n",
    "            [\n",
    "              10.657433730456233,\n",
    "              42.55051822581004\n",
    "            ],\n",
    "            [\n",
    "              10.657433730456233,\n",
    "              43.20142752427495\n",
    "            ],\n",
    "            [\n",
    "              9.121852596502947,\n",
    "              43.20142752427495\n",
    "            ]\n",
    "          ])\n",
    "   \n",
    "\n",
    "s_date = '2018-10-08'\n",
    "e_date = '2018-10-09'"
   ]
  },
  {
   "cell_type": "code",
   "execution_count": 7,
   "id": "e7bee3de-f0f0-4f5e-a484-17fcbdb6fcbb",
   "metadata": {},
   "outputs": [],
   "source": [
    "# filter \n",
    "s1_loc = s1_coll\\\n",
    "    .filterBounds(aoi)\\\n",
    "    .filterDate(s_date, e_date)"
   ]
  },
  {
   "cell_type": "code",
   "execution_count": 8,
   "id": "3cb01592-5585-4890-8345-59727b8bca08",
   "metadata": {},
   "outputs": [
    {
     "name": "stdout",
     "output_type": "stream",
     "text": [
      "Number of imges is :  2\n",
      "\n"
     ]
    }
   ],
   "source": [
    "count = s1_loc.size()\n",
    "valCount=count.getInfo()\n",
    "print('Number of imges is : ', str(valCount)+'\\n')"
   ]
  },
  {
   "cell_type": "markdown",
   "id": "30c16a90-cc2c-4d9b-9153-311bee5ec7fd",
   "metadata": {},
   "source": [
    "- Display the mean/median in  **GEEMAP** using the VV band\n"
   ]
  },
  {
   "cell_type": "code",
   "execution_count": 9,
   "id": "bc037674-0d66-49a3-8b5c-ec4fcc10503a",
   "metadata": {},
   "outputs": [],
   "source": [
    "s1 = s1_loc.first().select('VV')\n",
    "val= cm.palettes.Spectral\n",
    "palette=val.default\n",
    "Vis = {\n",
    "    'min':-100,\n",
    "    'max':-10,\n",
    "    'palette': palette}"
   ]
  },
  {
   "cell_type": "code",
   "execution_count": 10,
   "id": "09cb079b-6c13-46e8-ac71-7daeae00b18e",
   "metadata": {
    "tags": []
   },
   "outputs": [
    {
     "data": {
      "application/vnd.jupyter.widget-view+json": {
       "model_id": "ab2afc5abdf1410a835cf1a98451beec",
       "version_major": 2,
       "version_minor": 0
      },
      "text/plain": [
       "Map(center=[20, 0], controls=(WidgetControl(options=['position', 'transparent_bg'], widget=HBox(children=(Togg…"
      ]
     },
     "metadata": {},
     "output_type": "display_data"
    }
   ],
   "source": [
    "\n",
    "Map.addLayer(s1, Vis, 'S1',1)\n",
    "#show the map\n",
    "Map"
   ]
  },
  {
   "cell_type": "markdown",
   "id": "b67539e8-5ecc-4d33-8b8c-ce288ab1026e",
   "metadata": {},
   "source": [
    "## Mask the oil spill based on a threshold value"
   ]
  },
  {
   "cell_type": "code",
   "execution_count": 11,
   "id": "e34d81db-60a1-448e-b427-4a4d7bcb4df9",
   "metadata": {},
   "outputs": [
    {
     "data": {
      "application/vnd.jupyter.widget-view+json": {
       "model_id": "ab2afc5abdf1410a835cf1a98451beec",
       "version_major": 2,
       "version_minor": 0
      },
      "text/plain": [
       "Map(bottom=194157.0, center=[42.39050147746088, 9.762396809135515], controls=(WidgetControl(options=['position…"
      ]
     },
     "metadata": {},
     "output_type": "display_data"
    }
   ],
   "source": [
    "threshold =s1.lt(-25)\n",
    "mask=threshold.updateMask(threshold)\n",
    "Map.addLayer(mask, {\"pallette\":['Orange']}, 'Oil',1)\n",
    "#show the map\n",
    "Map"
   ]
  },
  {
   "cell_type": "markdown",
   "id": "2224d32e-fb2e-44e7-8637-14ce5514f2fd",
   "metadata": {
    "tags": []
   },
   "source": [
    "## End of exercise \n"
   ]
  },
  {
   "cell_type": "code",
   "execution_count": null,
   "id": "daff2983-e27f-4d4f-9a3b-7fdc310352b5",
   "metadata": {},
   "outputs": [],
   "source": []
  }
 ],
 "metadata": {
  "kernelspec": {
   "display_name": "Python",
   "language": "python",
   "name": "python3"
  },
  "language_info": {
   "codemirror_mode": {
    "name": "ipython",
    "version": 3
   },
   "file_extension": ".py",
   "mimetype": "text/x-python",
   "name": "python",
   "nbconvert_exporter": "python",
   "pygments_lexer": "ipython3",
   "version": "3.8.10"
  }
 },
 "nbformat": 4,
 "nbformat_minor": 5
}
